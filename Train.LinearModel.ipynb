{
 "cells": [
  {
   "cell_type": "markdown",
   "metadata": {},
   "source": [
    "# plant.Watering Prediction Model"
   ]
  },
  {
   "cell_type": "markdown",
   "metadata": {},
   "source": [
    "## Problem Statement\n",
    "We should predict the water consumption according to weather data"
   ]
  },
  {
   "cell_type": "markdown",
   "metadata": {},
   "source": [
    "## Import all libraries"
   ]
  },
  {
   "cell_type": "code",
   "execution_count": 127,
   "metadata": {
    "collapsed": true
   },
   "outputs": [],
   "source": [
    "# Show Plot immedeately\n",
    "%matplotlib inline \n",
    "\n",
    "from scipy import stats\n",
    "import numpy as np\n",
    "from matplotlib import pyplot as plt\n",
    "import pymysql.cursors\n",
    "import pandas as pd\n",
    "from datetime import datetime\n",
    "from sklearn import linear_model\n",
    "import predictiveanalytics as pa"
   ]
  },
  {
   "cell_type": "markdown",
   "metadata": {},
   "source": [
    "## Import DataSet"
   ]
  },
  {
   "cell_type": "code",
   "execution_count": 128,
   "metadata": {
    "scrolled": false
   },
   "outputs": [],
   "source": [
    "r_DataSet = pd.read_csv(\"data/DataSet.csv\")\n",
    "\n",
    "# Remove Value_sum as Model doesnt learn correctly\n",
    "r_DataSet = r_DataSet.drop(\"Value_sum\",1)\n"
   ]
  },
  {
   "cell_type": "markdown",
   "metadata": {},
   "source": [
    "## Variables\n",
    "\n",
    "Variable | Description\n",
    ":------------- |:-------------\n",
    "Date          |   29 non-null object\n",
    "Value         |   Pump Duration (predicted variable)29 non-null float64\n",
    "Time          |   29 non-null object\n",
    "DateTime_x    |   29 non-null object\n",
    "DateTime_y    |   29 non-null object\n",
    "tre200b0      |   Lufttemperatur 2 m über Boden; Stundenmittel 24h ago °C (tre200b0)\n",
    "ure200b0      |   Relative Luftfeuchtigkeit 2 m über Boden; Stundenmittel 24h ago % (ure200b0)\n",
    "rre150b0      |   Niederschlag; Stundensumme 24h ago mm (rre150b0)\n",
    "sre000b0      |   Sonnenscheindauer; Stundensumme 24h ago min (sre000b0)\n",
    "fu3010b0      |   Windgeschwindigkeit skalar; Stundenmittel 24h ago km/h (fu3010b0)\n",
    "prestab0      |   24h-Mean Luftdruck auf Stationshöhe (QFE); Stundenmittel (from -48h to -24h) hPa (prestab0)\n",
    "tre200b0_mean |   24h-Mean Lufttemperatur 2 m über Boden; Stundenmittel (from -48h to -24h) °C (tre200b0)\n",
    "ure200b0_mean |  24h-Mean Relative Luftfeuchtigkeit 2 m über Boden; Stundenmittel (from -48h to -24h) % (ure200b0)\n",
    "rre150b0_mean  |   24h-Summe Niederschlag; Stundenmittel (from -48h to -24h) mm (rre150b0)\n",
    "sre000b0_mean  |  24h-Summe Sonnenscheindauer; Stundenmittel (from -48h to -24h) min (sre000b0)\n",
    "fu3010b0_mean |   24h-Mean Windgeschwindigkeit skalar; Stundenmittel (from -48h to -24h) km/h (fu3010b0)\n",
    "prestab0_mean |   24h-Mean Luftdruck auf Stationshöhe (QFE); Stundenmittel (from -48h to -24h) hPa (prestab0)\n",
    "volumelst72h  |  Pump Duration in the last 72 hours"
   ]
  },
  {
   "cell_type": "code",
   "execution_count": 129,
   "metadata": {
    "scrolled": true
   },
   "outputs": [
    {
     "name": "stdout",
     "output_type": "stream",
     "text": [
      "<class 'pandas.core.frame.DataFrame'>\n",
      "RangeIndex: 100 entries, 0 to 99\n",
      "Data columns (total 14 columns):\n",
      "Date             100 non-null object\n",
      "Value            100 non-null float64\n",
      "tre200b0         100 non-null float64\n",
      "ure200b0         100 non-null float64\n",
      "rre150b0         100 non-null float64\n",
      "sre000b0         100 non-null float64\n",
      "fu3010b0         100 non-null float64\n",
      "prestab0         100 non-null float64\n",
      "tre200b0_mean    100 non-null float64\n",
      "ure200b0_mean    100 non-null float64\n",
      "rre150b0_mean    100 non-null float64\n",
      "sre000b0_mean    100 non-null float64\n",
      "fu3010b0_mean    100 non-null float64\n",
      "prestab0_mean    100 non-null float64\n",
      "dtypes: float64(13), object(1)\n",
      "memory usage: 11.0+ KB\n"
     ]
    }
   ],
   "source": [
    "# Print more than one variable\n",
    "from IPython.core.interactiveshell import InteractiveShell\n",
    "InteractiveShell.ast_node_interactivity = \"all\"\n",
    "\n",
    "r_DataSet.info()"
   ]
  },
  {
   "cell_type": "markdown",
   "metadata": {},
   "source": [
    "## Lineares Model"
   ]
  },
  {
   "cell_type": "code",
   "execution_count": 130,
   "metadata": {},
   "outputs": [
    {
     "data": {
      "text/html": [
       "<div>\n",
       "<table border=\"1\" class=\"dataframe\">\n",
       "  <thead>\n",
       "    <tr style=\"text-align: right;\">\n",
       "      <th></th>\n",
       "      <th>Value</th>\n",
       "      <th>tre200b0</th>\n",
       "      <th>ure200b0</th>\n",
       "      <th>rre150b0</th>\n",
       "      <th>sre000b0</th>\n",
       "      <th>fu3010b0</th>\n",
       "      <th>prestab0</th>\n",
       "      <th>tre200b0_mean</th>\n",
       "      <th>ure200b0_mean</th>\n",
       "      <th>rre150b0_mean</th>\n",
       "      <th>sre000b0_mean</th>\n",
       "      <th>fu3010b0_mean</th>\n",
       "      <th>prestab0_mean</th>\n",
       "    </tr>\n",
       "  </thead>\n",
       "  <tbody>\n",
       "    <tr>\n",
       "      <th>count</th>\n",
       "      <td>50.000000</td>\n",
       "      <td>50.000000</td>\n",
       "      <td>50.000000</td>\n",
       "      <td>50.000000</td>\n",
       "      <td>50.000000</td>\n",
       "      <td>50.000000</td>\n",
       "      <td>50.000000</td>\n",
       "      <td>50.000000</td>\n",
       "      <td>50.000000</td>\n",
       "      <td>5.000000e+01</td>\n",
       "      <td>50.000000</td>\n",
       "      <td>50.000000</td>\n",
       "      <td>50.000000</td>\n",
       "    </tr>\n",
       "    <tr>\n",
       "      <th>mean</th>\n",
       "      <td>473.097980</td>\n",
       "      <td>16.048000</td>\n",
       "      <td>64.886000</td>\n",
       "      <td>0.070000</td>\n",
       "      <td>6.120000</td>\n",
       "      <td>7.768000</td>\n",
       "      <td>901.786000</td>\n",
       "      <td>15.095583</td>\n",
       "      <td>70.236333</td>\n",
       "      <td>1.082500e-01</td>\n",
       "      <td>18.358333</td>\n",
       "      <td>5.291333</td>\n",
       "      <td>922.241750</td>\n",
       "    </tr>\n",
       "    <tr>\n",
       "      <th>std</th>\n",
       "      <td>194.038023</td>\n",
       "      <td>8.025043</td>\n",
       "      <td>21.519464</td>\n",
       "      <td>0.398594</td>\n",
       "      <td>14.858022</td>\n",
       "      <td>6.029399</td>\n",
       "      <td>230.233884</td>\n",
       "      <td>7.071464</td>\n",
       "      <td>17.251312</td>\n",
       "      <td>3.014615e-01</td>\n",
       "      <td>13.135932</td>\n",
       "      <td>2.174920</td>\n",
       "      <td>190.245710</td>\n",
       "    </tr>\n",
       "    <tr>\n",
       "      <th>min</th>\n",
       "      <td>109.288000</td>\n",
       "      <td>0.000000</td>\n",
       "      <td>0.000000</td>\n",
       "      <td>0.000000</td>\n",
       "      <td>0.000000</td>\n",
       "      <td>0.000000</td>\n",
       "      <td>0.000000</td>\n",
       "      <td>0.000000</td>\n",
       "      <td>0.000000</td>\n",
       "      <td>0.000000e+00</td>\n",
       "      <td>0.000000</td>\n",
       "      <td>0.000000</td>\n",
       "      <td>0.000000</td>\n",
       "    </tr>\n",
       "    <tr>\n",
       "      <th>25%</th>\n",
       "      <td>324.092250</td>\n",
       "      <td>10.725000</td>\n",
       "      <td>58.650000</td>\n",
       "      <td>0.000000</td>\n",
       "      <td>0.000000</td>\n",
       "      <td>4.300000</td>\n",
       "      <td>955.075000</td>\n",
       "      <td>12.473958</td>\n",
       "      <td>68.191667</td>\n",
       "      <td>2.502628e-15</td>\n",
       "      <td>5.468750</td>\n",
       "      <td>4.025000</td>\n",
       "      <td>956.809375</td>\n",
       "    </tr>\n",
       "    <tr>\n",
       "      <th>50%</th>\n",
       "      <td>499.037000</td>\n",
       "      <td>17.700000</td>\n",
       "      <td>68.600000</td>\n",
       "      <td>0.000000</td>\n",
       "      <td>0.000000</td>\n",
       "      <td>6.100000</td>\n",
       "      <td>959.800000</td>\n",
       "      <td>17.102083</td>\n",
       "      <td>73.437500</td>\n",
       "      <td>2.964064e-15</td>\n",
       "      <td>17.062500</td>\n",
       "      <td>5.418750</td>\n",
       "      <td>961.656250</td>\n",
       "    </tr>\n",
       "    <tr>\n",
       "      <th>75%</th>\n",
       "      <td>616.903500</td>\n",
       "      <td>22.650000</td>\n",
       "      <td>78.150000</td>\n",
       "      <td>0.000000</td>\n",
       "      <td>0.750000</td>\n",
       "      <td>10.325000</td>\n",
       "      <td>962.650000</td>\n",
       "      <td>20.692708</td>\n",
       "      <td>79.181250</td>\n",
       "      <td>1.145833e-02</td>\n",
       "      <td>31.822917</td>\n",
       "      <td>6.139583</td>\n",
       "      <td>964.463542</td>\n",
       "    </tr>\n",
       "    <tr>\n",
       "      <th>max</th>\n",
       "      <td>796.252000</td>\n",
       "      <td>25.700000</td>\n",
       "      <td>94.000000</td>\n",
       "      <td>2.800000</td>\n",
       "      <td>60.000000</td>\n",
       "      <td>31.000000</td>\n",
       "      <td>972.300000</td>\n",
       "      <td>23.945833</td>\n",
       "      <td>94.912500</td>\n",
       "      <td>1.600000e+00</td>\n",
       "      <td>37.333333</td>\n",
       "      <td>11.200000</td>\n",
       "      <td>971.366667</td>\n",
       "    </tr>\n",
       "  </tbody>\n",
       "</table>\n",
       "</div>"
      ],
      "text/plain": [
       "            Value   tre200b0   ure200b0   rre150b0   sre000b0   fu3010b0  \\\n",
       "count   50.000000  50.000000  50.000000  50.000000  50.000000  50.000000   \n",
       "mean   473.097980  16.048000  64.886000   0.070000   6.120000   7.768000   \n",
       "std    194.038023   8.025043  21.519464   0.398594  14.858022   6.029399   \n",
       "min    109.288000   0.000000   0.000000   0.000000   0.000000   0.000000   \n",
       "25%    324.092250  10.725000  58.650000   0.000000   0.000000   4.300000   \n",
       "50%    499.037000  17.700000  68.600000   0.000000   0.000000   6.100000   \n",
       "75%    616.903500  22.650000  78.150000   0.000000   0.750000  10.325000   \n",
       "max    796.252000  25.700000  94.000000   2.800000  60.000000  31.000000   \n",
       "\n",
       "         prestab0  tre200b0_mean  ure200b0_mean  rre150b0_mean  sre000b0_mean  \\\n",
       "count   50.000000      50.000000      50.000000   5.000000e+01      50.000000   \n",
       "mean   901.786000      15.095583      70.236333   1.082500e-01      18.358333   \n",
       "std    230.233884       7.071464      17.251312   3.014615e-01      13.135932   \n",
       "min      0.000000       0.000000       0.000000   0.000000e+00       0.000000   \n",
       "25%    955.075000      12.473958      68.191667   2.502628e-15       5.468750   \n",
       "50%    959.800000      17.102083      73.437500   2.964064e-15      17.062500   \n",
       "75%    962.650000      20.692708      79.181250   1.145833e-02      31.822917   \n",
       "max    972.300000      23.945833      94.912500   1.600000e+00      37.333333   \n",
       "\n",
       "       fu3010b0_mean  prestab0_mean  \n",
       "count      50.000000      50.000000  \n",
       "mean        5.291333     922.241750  \n",
       "std         2.174920     190.245710  \n",
       "min         0.000000       0.000000  \n",
       "25%         4.025000     956.809375  \n",
       "50%         5.418750     961.656250  \n",
       "75%         6.139583     964.463542  \n",
       "max        11.200000     971.366667  "
      ]
     },
     "execution_count": 130,
     "metadata": {},
     "output_type": "execute_result"
    }
   ],
   "source": [
    "r_DataSet = r_DataSet[(r_DataSet.Value > 100) & (r_DataSet.Value != 480) & (r_DataSet.Value < 800)]\n",
    "#r_DataSet = r_DataSet[(r_DataSet.Value > 100) & (r_DataSet.Value < 600) & (r_DataSet.Value != 480)]\n",
    "#r_DataSet = r_DataSet[(r_DataSet.Value < 100)]\n",
    "#r_DataSet = r_DataSet[(r_DataSet.Value > 600)]\n",
    "\n",
    "r_DataSet.describe()"
   ]
  },
  {
   "cell_type": "markdown",
   "metadata": {},
   "source": [
    "### Divide DataSet into TrainingSet (60%) and TestSet (100%) and Define Training Variable (y) and Explanation Variables (X)"
   ]
  },
  {
   "cell_type": "code",
   "execution_count": 131,
   "metadata": {
    "collapsed": true
   },
   "outputs": [],
   "source": [
    "from IPython.core.interactiveshell import InteractiveShell\n",
    "InteractiveShell.ast_node_interactivity = \"all\"\n",
    "\n",
    "p_TrainSet = r_DataSet.sample(frac=0.6, replace=True) #60% of Data\n",
    "p_TestSet = r_DataSet #100% of Data\n",
    "\n",
    "Xtrain = p_TrainSet.loc[:,\"tre200b0\":]\n",
    "\n",
    "yTrain = p_TrainSet.Value\n",
    "yTest = p_TestSet.Value\n",
    "\n",
    "# Test Model, get X and y from TestSet\n",
    "Xtest = p_TestSet.loc[:,\"tre200b0\":]"
   ]
  },
  {
   "cell_type": "markdown",
   "metadata": {},
   "source": [
    "#### Prepare (poly,scale) Features"
   ]
  },
  {
   "cell_type": "code",
   "execution_count": 132,
   "metadata": {},
   "outputs": [
    {
     "name": "stderr",
     "output_type": "stream",
     "text": [
      "/usr/local/lib/python3.4/dist-packages/sklearn/utils/validation.py:429: DataConversionWarning: Data with input dtype int64 was converted to float64 by MinMaxScaler.\n",
      "  warnings.warn(msg, _DataConversionWarning)\n",
      "/usr/local/lib/python3.4/dist-packages/sklearn/preprocessing/data.py:321: DeprecationWarning: Passing 1d arrays as data is deprecated in 0.17 and will raise ValueError in 0.19. Reshape your data either using X.reshape(-1, 1) if your data has a single feature or X.reshape(1, -1) if it contains a single sample.\n",
      "  warnings.warn(DEPRECATION_MSG_1D, DeprecationWarning)\n",
      "/usr/local/lib/python3.4/dist-packages/sklearn/preprocessing/data.py:356: DeprecationWarning: Passing 1d arrays as data is deprecated in 0.17 and will raise ValueError in 0.19. Reshape your data either using X.reshape(-1, 1) if your data has a single feature or X.reshape(1, -1) if it contains a single sample.\n",
      "  warnings.warn(DEPRECATION_MSG_1D, DeprecationWarning)\n",
      "/usr/local/lib/python3.4/dist-packages/sklearn/preprocessing/data.py:356: DeprecationWarning: Passing 1d arrays as data is deprecated in 0.17 and will raise ValueError in 0.19. Reshape your data either using X.reshape(-1, 1) if your data has a single feature or X.reshape(1, -1) if it contains a single sample.\n",
      "  warnings.warn(DEPRECATION_MSG_1D, DeprecationWarning)\n"
     ]
    }
   ],
   "source": [
    "from IPython.core.interactiveshell import InteractiveShell\n",
    "InteractiveShell.ast_node_interactivity = \"all\"\n",
    "\n",
    "from sklearn.preprocessing import PolynomialFeatures\n",
    "\n",
    "polyDegree = 3\n",
    "Xtrain = PolynomialFeatures(degree=polyDegree).fit_transform(Xtrain).astype(int)\n",
    "Xtest = PolynomialFeatures(degree=polyDegree).fit_transform(Xtest).astype(int)\n",
    "\n",
    "from sklearn import preprocessing\n",
    "X_min_max_scaler = preprocessing.MinMaxScaler()\n",
    "X_train_minmax = X_min_max_scaler.fit_transform(Xtrain)\n",
    "y_min_max_scaler = preprocessing.MinMaxScaler()\n",
    "yTrain_minmax = y_min_max_scaler.fit_transform(yTrain)\n",
    "\n",
    "X_test_minmax = X_min_max_scaler.transform(Xtest)\n",
    "yTest_minmax = y_min_max_scaler.transform(yTest)\n",
    "\n",
    "#X_min_max_scaler.scale_ \n",
    "#y_min_max_scaler.scale_ "
   ]
  },
  {
   "cell_type": "markdown",
   "metadata": {},
   "source": [
    "### Train Linear Regression and Set Train Variables"
   ]
  },
  {
   "cell_type": "code",
   "execution_count": 133,
   "metadata": {
    "scrolled": false
   },
   "outputs": [
    {
     "name": "stdout",
     "output_type": "stream",
     "text": [
      "Mean squared error: 0.04\n"
     ]
    },
    {
     "data": {
      "text/plain": [
       "<matplotlib.collections.PathCollection at 0x7f819c948eb8>"
      ]
     },
     "execution_count": 133,
     "metadata": {},
     "output_type": "execute_result"
    },
    {
     "data": {
      "image/png": "[encoded data removed]",
      "text/plain": [
       "<matplotlib.figure.Figure at 0x7f819c3de6d8>"
      ]
     },
     "metadata": {},
     "output_type": "display_data"
    },
    {
     "data": {
      "text/plain": [
       "<matplotlib.collections.PathCollection at 0x7f819cbe26a0>"
      ]
     },
     "execution_count": 133,
     "metadata": {},
     "output_type": "execute_result"
    },
    {
     "data": {
      "image/png": "[encoded data removed]",
      "text/plain": [
       "<matplotlib.figure.Figure at 0x7f819c538ac8>"
      ]
     },
     "metadata": {},
     "output_type": "display_data"
    }
   ],
   "source": [
    "regr = pa.LinearRegression(X_train_minmax, yTrain_minmax)\n",
    "regr.fit(10000, 0.01)\n",
    "\n",
    "# The coefficients\n",
    "#print('Coefficients: \\n', regr.coef_)\n",
    "\n",
    "# The mean squared error\n",
    "print(\"Mean squared error: %.2f\"\n",
    "      % np.mean((regr.predict(X_train_minmax) - yTrain_minmax) ** 2) ** 0.5)\n",
    "\n",
    "# Explained variance score: 1 is perfect prediction\n",
    "#print('Variance score: %.2f' % regr.score(Xtrain, yTrain))\n",
    "\n",
    "# Plot outputs\n",
    "\n",
    "plt.scatter(yTrain_minmax, regr.predict(X_train_minmax), color='blue')\n",
    "plt.show()\n",
    "plt.scatter(np.arange(0,regr.costH.size), regr.costH)\n",
    "\n",
    "#regr.coeff__"
   ]
  },
  {
   "cell_type": "code",
   "execution_count": 134,
   "metadata": {
    "scrolled": true
   },
   "outputs": [
    {
     "name": "stdout",
     "output_type": "stream",
     "text": [
      "Mean squared error: 1.88\n"
     ]
    },
    {
     "data": {
      "text/plain": [
       "<matplotlib.collections.PathCollection at 0x7f819c4acb38>"
      ]
     },
     "execution_count": 134,
     "metadata": {},
     "output_type": "execute_result"
    },
    {
     "data": {
      "image/png": "[encoded data removed]",
      "text/plain": [
       "<matplotlib.figure.Figure at 0x7f819c94de80>"
      ]
     },
     "metadata": {},
     "output_type": "display_data"
    },
    {
     "data": {
      "text/html": [
       "<div>\n",
       "<table border=\"1\" class=\"dataframe\">\n",
       "  <thead>\n",
       "    <tr style=\"text-align: right;\">\n",
       "      <th></th>\n",
       "      <th>y</th>\n",
       "      <th>x</th>\n",
       "    </tr>\n",
       "  </thead>\n",
       "  <tbody>\n",
       "    <tr>\n",
       "      <th>0</th>\n",
       "      <td>0.826841</td>\n",
       "      <td>1.400237</td>\n",
       "    </tr>\n",
       "    <tr>\n",
       "      <th>1</th>\n",
       "      <td>1.000000</td>\n",
       "      <td>0.959186</td>\n",
       "    </tr>\n",
       "    <tr>\n",
       "      <th>2</th>\n",
       "      <td>0.727435</td>\n",
       "      <td>0.675318</td>\n",
       "    </tr>\n",
       "    <tr>\n",
       "      <th>3</th>\n",
       "      <td>0.592756</td>\n",
       "      <td>0.758260</td>\n",
       "    </tr>\n",
       "    <tr>\n",
       "      <th>4</th>\n",
       "      <td>0.953504</td>\n",
       "      <td>0.951126</td>\n",
       "    </tr>\n",
       "    <tr>\n",
       "      <th>5</th>\n",
       "      <td>0.568706</td>\n",
       "      <td>0.570148</td>\n",
       "    </tr>\n",
       "    <tr>\n",
       "      <th>6</th>\n",
       "      <td>0.990380</td>\n",
       "      <td>0.985184</td>\n",
       "    </tr>\n",
       "    <tr>\n",
       "      <th>7</th>\n",
       "      <td>0.057245</td>\n",
       "      <td>0.071754</td>\n",
       "    </tr>\n",
       "    <tr>\n",
       "      <th>8</th>\n",
       "      <td>0.713005</td>\n",
       "      <td>0.592737</td>\n",
       "    </tr>\n",
       "    <tr>\n",
       "      <th>9</th>\n",
       "      <td>1.027661</td>\n",
       "      <td>1.198382</td>\n",
       "    </tr>\n",
       "    <tr>\n",
       "      <th>10</th>\n",
       "      <td>0.437233</td>\n",
       "      <td>0.895633</td>\n",
       "    </tr>\n",
       "    <tr>\n",
       "      <th>11</th>\n",
       "      <td>0.000000</td>\n",
       "      <td>0.015700</td>\n",
       "    </tr>\n",
       "    <tr>\n",
       "      <th>12</th>\n",
       "      <td>0.834163</td>\n",
       "      <td>1.468008</td>\n",
       "    </tr>\n",
       "    <tr>\n",
       "      <th>13</th>\n",
       "      <td>0.838149</td>\n",
       "      <td>0.897061</td>\n",
       "    </tr>\n",
       "    <tr>\n",
       "      <th>14</th>\n",
       "      <td>0.365083</td>\n",
       "      <td>0.379637</td>\n",
       "    </tr>\n",
       "    <tr>\n",
       "      <th>15</th>\n",
       "      <td>0.973624</td>\n",
       "      <td>0.824333</td>\n",
       "    </tr>\n",
       "    <tr>\n",
       "      <th>16</th>\n",
       "      <td>0.297672</td>\n",
       "      <td>0.295962</td>\n",
       "    </tr>\n",
       "    <tr>\n",
       "      <th>17</th>\n",
       "      <td>-0.073766</td>\n",
       "      <td>0.775696</td>\n",
       "    </tr>\n",
       "    <tr>\n",
       "      <th>18</th>\n",
       "      <td>0.413834</td>\n",
       "      <td>0.665619</td>\n",
       "    </tr>\n",
       "    <tr>\n",
       "      <th>19</th>\n",
       "      <td>0.269795</td>\n",
       "      <td>0.314946</td>\n",
       "    </tr>\n",
       "    <tr>\n",
       "      <th>20</th>\n",
       "      <td>0.273157</td>\n",
       "      <td>0.147830</td>\n",
       "    </tr>\n",
       "    <tr>\n",
       "      <th>21</th>\n",
       "      <td>0.671613</td>\n",
       "      <td>0.309127</td>\n",
       "    </tr>\n",
       "    <tr>\n",
       "      <th>22</th>\n",
       "      <td>0.744331</td>\n",
       "      <td>0.761510</td>\n",
       "    </tr>\n",
       "    <tr>\n",
       "      <th>23</th>\n",
       "      <td>0.471403</td>\n",
       "      <td>0.396959</td>\n",
       "    </tr>\n",
       "    <tr>\n",
       "      <th>24</th>\n",
       "      <td>0.509173</td>\n",
       "      <td>0.220264</td>\n",
       "    </tr>\n",
       "    <tr>\n",
       "      <th>25</th>\n",
       "      <td>0.558215</td>\n",
       "      <td>0.908181</td>\n",
       "    </tr>\n",
       "    <tr>\n",
       "      <th>26</th>\n",
       "      <td>0.388548</td>\n",
       "      <td>0.440210</td>\n",
       "    </tr>\n",
       "    <tr>\n",
       "      <th>27</th>\n",
       "      <td>0.669249</td>\n",
       "      <td>0.338602</td>\n",
       "    </tr>\n",
       "    <tr>\n",
       "      <th>28</th>\n",
       "      <td>0.304614</td>\n",
       "      <td>0.802537</td>\n",
       "    </tr>\n",
       "    <tr>\n",
       "      <th>29</th>\n",
       "      <td>0.792674</td>\n",
       "      <td>0.766551</td>\n",
       "    </tr>\n",
       "    <tr>\n",
       "      <th>30</th>\n",
       "      <td>0.692255</td>\n",
       "      <td>0.689820</td>\n",
       "    </tr>\n",
       "    <tr>\n",
       "      <th>31</th>\n",
       "      <td>0.795496</td>\n",
       "      <td>0.305569</td>\n",
       "    </tr>\n",
       "    <tr>\n",
       "      <th>32</th>\n",
       "      <td>0.252177</td>\n",
       "      <td>0.253021</td>\n",
       "    </tr>\n",
       "    <tr>\n",
       "      <th>33</th>\n",
       "      <td>0.638773</td>\n",
       "      <td>0.668679</td>\n",
       "    </tr>\n",
       "    <tr>\n",
       "      <th>34</th>\n",
       "      <td>0.099842</td>\n",
       "      <td>0.094721</td>\n",
       "    </tr>\n",
       "    <tr>\n",
       "      <th>35</th>\n",
       "      <td>0.092212</td>\n",
       "      <td>0.129143</td>\n",
       "    </tr>\n",
       "    <tr>\n",
       "      <th>36</th>\n",
       "      <td>0.315744</td>\n",
       "      <td>-0.627670</td>\n",
       "    </tr>\n",
       "    <tr>\n",
       "      <th>37</th>\n",
       "      <td>0.707724</td>\n",
       "      <td>0.628344</td>\n",
       "    </tr>\n",
       "    <tr>\n",
       "      <th>38</th>\n",
       "      <td>0.624840</td>\n",
       "      <td>0.681444</td>\n",
       "    </tr>\n",
       "    <tr>\n",
       "      <th>39</th>\n",
       "      <td>0.323561</td>\n",
       "      <td>0.219533</td>\n",
       "    </tr>\n",
       "    <tr>\n",
       "      <th>40</th>\n",
       "      <td>0.251294</td>\n",
       "      <td>0.306750</td>\n",
       "    </tr>\n",
       "    <tr>\n",
       "      <th>41</th>\n",
       "      <td>-0.060638</td>\n",
       "      <td>0.611498</td>\n",
       "    </tr>\n",
       "    <tr>\n",
       "      <th>42</th>\n",
       "      <td>0.208535</td>\n",
       "      <td>0.756044</td>\n",
       "    </tr>\n",
       "    <tr>\n",
       "      <th>43</th>\n",
       "      <td>0.621734</td>\n",
       "      <td>0.387274</td>\n",
       "    </tr>\n",
       "    <tr>\n",
       "      <th>44</th>\n",
       "      <td>0.909919</td>\n",
       "      <td>0.042042</td>\n",
       "    </tr>\n",
       "    <tr>\n",
       "      <th>45</th>\n",
       "      <td>0.014707</td>\n",
       "      <td>0.060422</td>\n",
       "    </tr>\n",
       "    <tr>\n",
       "      <th>46</th>\n",
       "      <td>0.888631</td>\n",
       "      <td>-0.437525</td>\n",
       "    </tr>\n",
       "  </tbody>\n",
       "</table>\n",
       "</div>"
      ],
      "text/plain": [
       "           y         x\n",
       "0   0.826841  1.400237\n",
       "1   1.000000  0.959186\n",
       "2   0.727435  0.675318\n",
       "3   0.592756  0.758260\n",
       "4   0.953504  0.951126\n",
       "5   0.568706  0.570148\n",
       "6   0.990380  0.985184\n",
       "7   0.057245  0.071754\n",
       "8   0.713005  0.592737\n",
       "9   1.027661  1.198382\n",
       "10  0.437233  0.895633\n",
       "11  0.000000  0.015700\n",
       "12  0.834163  1.468008\n",
       "13  0.838149  0.897061\n",
       "14  0.365083  0.379637\n",
       "15  0.973624  0.824333\n",
       "16  0.297672  0.295962\n",
       "17 -0.073766  0.775696\n",
       "18  0.413834  0.665619\n",
       "19  0.269795  0.314946\n",
       "20  0.273157  0.147830\n",
       "21  0.671613  0.309127\n",
       "22  0.744331  0.761510\n",
       "23  0.471403  0.396959\n",
       "24  0.509173  0.220264\n",
       "25  0.558215  0.908181\n",
       "26  0.388548  0.440210\n",
       "27  0.669249  0.338602\n",
       "28  0.304614  0.802537\n",
       "29  0.792674  0.766551\n",
       "30  0.692255  0.689820\n",
       "31  0.795496  0.305569\n",
       "32  0.252177  0.253021\n",
       "33  0.638773  0.668679\n",
       "34  0.099842  0.094721\n",
       "35  0.092212  0.129143\n",
       "36  0.315744 -0.627670\n",
       "37  0.707724  0.628344\n",
       "38  0.624840  0.681444\n",
       "39  0.323561  0.219533\n",
       "40  0.251294  0.306750\n",
       "41 -0.060638  0.611498\n",
       "42  0.208535  0.756044\n",
       "43  0.621734  0.387274\n",
       "44  0.909919  0.042042\n",
       "45  0.014707  0.060422\n",
       "46  0.888631 -0.437525"
      ]
     },
     "execution_count": 134,
     "metadata": {},
     "output_type": "execute_result"
    }
   ],
   "source": [
    "from sklearn.externals import joblib\n",
    "#joblib.dump(regr, 'lr_medium_values.pkl', compress=9)\n",
    "\n",
    "model_clone = regr\n",
    "#model_clone = joblib.load('lr_medium_values.pkl')\n",
    "\n",
    "error = ((regr.predict(X_test_minmax) - yTest_minmax) ** 2) ** 0.5\n",
    "# Explained variance score: 1 is perfect prediction\n",
    "print(\"Mean squared error: %.2f\"\n",
    "      % np.mean(error))\n",
    "\n",
    "K = 3\n",
    "yTest_minmax = np.delete(yTest_minmax,np.argpartition(error,-K)[-K:],0)\n",
    "X_test_minmax = np.delete(X_test_minmax,np.argpartition(error,-K)[-K:],0)\n",
    "\n",
    "plt.scatter(yTest_minmax, model_clone.predict(X_test_minmax), color='blue')\n",
    "plt.show()\n",
    "\n",
    "TestDF = pd.DataFrame()\n",
    "TestDF = TestDF.assign(y = yTest_minmax)\n",
    "TestDF = TestDF.assign(x = model_clone.predict(X_test_minmax))\n",
    "TestDF"
   ]
  },
  {
   "cell_type": "code",
   "execution_count": 136,
   "metadata": {},
   "outputs": [
    {
     "data": {
      "text/plain": [
       "['data/myLinReg.pkl']"
      ]
     },
     "execution_count": 136,
     "metadata": {},
     "output_type": "execute_result"
    },
    {
     "data": {
      "text/plain": [
       "['data/X_min_max_scaler.pkl']"
      ]
     },
     "execution_count": 136,
     "metadata": {},
     "output_type": "execute_result"
    },
    {
     "data": {
      "text/plain": [
       "['data/y_min_max_scaler.pkl']"
      ]
     },
     "execution_count": 136,
     "metadata": {},
     "output_type": "execute_result"
    }
   ],
   "source": [
    "#Save the model\n",
    "#joblib.dump(regr, 'data/myLinReg.pkl')\n",
    "\n",
    "#joblib.dump(X_min_max_scaler, 'data/X_min_max_scaler.pkl')\n",
    "#joblib.dump(y_min_max_scaler, 'data/y_min_max_scaler.pkl')\n"
   ]
  },
  {
   "cell_type": "markdown",
   "metadata": {},
   "source": [
    "#### Port your model to other languages\n",
    "Very good source for porting pkl (Pickle) Files to other langauges\n",
    "https://github.com/nok/sklearn-porter"
   ]
  }
 ],
 "metadata": {
  "celltoolbar": "Edit Metadata",
  "kernelspec": {
   "display_name": "Python 3",
   "language": "python",
   "name": "python3"
  },
  "language_info": {
   "codemirror_mode": {
    "name": "ipython",
    "version": 3
   },
   "file_extension": ".py",
   "mimetype": "text/x-python",
   "name": "python",
   "nbconvert_exporter": "python",
   "pygments_lexer": "ipython3",
   "version": "3.4.2"
  }
 },
 "nbformat": 4,
 "nbformat_minor": 2
}
