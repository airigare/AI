{
 "cells": [
  {
   "cell_type": "markdown",
   "metadata": {},
   "source": [
    "# Predict Water Amount Needed"
   ]
  },
  {
   "cell_type": "markdown",
   "metadata": {},
   "source": [
    "## Get and Prepare Weather Data from DataBase"
   ]
  },
  {
   "cell_type": "code",
   "execution_count": 15,
   "metadata": {},
   "outputs": [
    {
     "data": {
      "text/plain": [
       "162"
      ]
     },
     "execution_count": 15,
     "metadata": {},
     "output_type": "execute_result"
    }
   ],
   "source": [
    "import pymysql.cursors\n",
    "import pandas as pd\n",
    "import numpy as np\n",
    "\n",
    "pd.options.display.max_rows = 200\n",
    "#pd.set_option('display.float_format', lambda x: '%.20f' % x) #Display as Float\n",
    "pd.set_option('display.float_format', lambda x: '{:,}'.format(x)) #Display as Scientific\n",
    "\n",
    "\n",
    "connection = pymysql.connect(host = \"mikmak.cc\", user=\"sensor\", passwd=\"Gaffe2017\", db=\"weatherDW\")\n",
    "query = ('SELECT * FROM log_v_last24Hours WHERE S_Text <> \"None\"')\n",
    "\n",
    "with connection.cursor() as cursor:\n",
    "    cursor.execute(query)\n",
    "connection.commit()\n",
    "e_Log = cursor.fetchall()\n",
    "connection.close()\n",
    "\n",
    "e_Log = (np.array(e_Log))"
   ]
  },
  {
   "cell_type": "code",
   "execution_count": 16,
   "metadata": {},
   "outputs": [
    {
     "data": {
      "text/html": [
       "<div>\n",
       "<table border=\"1\" class=\"dataframe\">\n",
       "  <thead>\n",
       "    <tr style=\"text-align: right;\">\n",
       "      <th>ID</th>\n",
       "      <th>Humidity</th>\n",
       "      <th>Pressure</th>\n",
       "      <th>Rain</th>\n",
       "      <th>Sunshine</th>\n",
       "      <th>Temperature</th>\n",
       "      <th>Wind</th>\n",
       "    </tr>\n",
       "    <tr>\n",
       "      <th>TimeStamp</th>\n",
       "      <th></th>\n",
       "      <th></th>\n",
       "      <th></th>\n",
       "      <th></th>\n",
       "      <th></th>\n",
       "      <th></th>\n",
       "    </tr>\n",
       "  </thead>\n",
       "  <tbody>\n",
       "    <tr>\n",
       "      <th>2017-07-04 23:39:44</th>\n",
       "      <td>62.0</td>\n",
       "      <td>963.4</td>\n",
       "      <td>0.0</td>\n",
       "      <td>0.0</td>\n",
       "      <td>19.2</td>\n",
       "      <td>5.4</td>\n",
       "    </tr>\n",
       "    <tr>\n",
       "      <th>2017-07-05 00:39:44</th>\n",
       "      <td>66.0</td>\n",
       "      <td>963.2</td>\n",
       "      <td>0.0</td>\n",
       "      <td>0.0</td>\n",
       "      <td>18.2</td>\n",
       "      <td>4.3</td>\n",
       "    </tr>\n",
       "    <tr>\n",
       "      <th>2017-07-05 00:59:16</th>\n",
       "      <td>66.0</td>\n",
       "      <td>963.1</td>\n",
       "      <td>0.0</td>\n",
       "      <td>0.0</td>\n",
       "      <td>18.3</td>\n",
       "      <td>8.3</td>\n",
       "    </tr>\n",
       "    <tr>\n",
       "      <th>2017-07-05 01:04:51</th>\n",
       "      <td>66.0</td>\n",
       "      <td>963.1</td>\n",
       "      <td>0.0</td>\n",
       "      <td>0.0</td>\n",
       "      <td>18.3</td>\n",
       "      <td>8.3</td>\n",
       "    </tr>\n",
       "    <tr>\n",
       "      <th>2017-07-05 01:10:28</th>\n",
       "      <td>67.0</td>\n",
       "      <td>963.0</td>\n",
       "      <td>0.0</td>\n",
       "      <td>0.0</td>\n",
       "      <td>18.2</td>\n",
       "      <td>7.6</td>\n",
       "    </tr>\n",
       "  </tbody>\n",
       "</table>\n",
       "</div>"
      ],
      "text/plain": [
       "ID                   Humidity  Pressure  Rain  Sunshine  Temperature  Wind\n",
       "TimeStamp                                                                 \n",
       "2017-07-04 23:39:44      62.0     963.4   0.0       0.0         19.2   5.4\n",
       "2017-07-05 00:39:44      66.0     963.2   0.0       0.0         18.2   4.3\n",
       "2017-07-05 00:59:16      66.0     963.1   0.0       0.0         18.3   8.3\n",
       "2017-07-05 01:04:51      66.0     963.1   0.0       0.0         18.3   8.3\n",
       "2017-07-05 01:10:28      67.0     963.0   0.0       0.0         18.2   7.6"
      ]
     },
     "execution_count": 16,
     "metadata": {},
     "output_type": "execute_result"
    }
   ],
   "source": [
    "from IPython.core.interactiveshell import InteractiveShell\n",
    "InteractiveShell.ast_node_interactivity = \"all\"\n",
    "\n",
    "t_Log = e_Log\n",
    "\n",
    "t_Log = pd.DataFrame(data = t_Log[1:,:],\n",
    "                     index = t_Log[1:,2],\n",
    "                     columns =[\"ID\",\"Value\",\"TimeStamp\"] )\n",
    "\n",
    "t_Log = t_Log[t_Log != '-'] #DataSet contains some missing values, remove them\n",
    "\n",
    "t_Log = t_Log.pivot(index='TimeStamp', columns='ID', values='Value')\n",
    "t_Log = t_Log.sort_index(ascending = True) #It should be ascending, for rolling calculation later\n",
    "t_Log = t_Log.dropna(how = \"any\")\n",
    "t_Log = t_Log.astype(float)\n",
    "\n",
    "t_Log.tail()\n"
   ]
  },
  {
   "cell_type": "markdown",
   "metadata": {
    "collapsed": true
   },
   "source": [
    "## Transform Data into Input Vector"
   ]
  },
  {
   "cell_type": "markdown",
   "metadata": {},
   "source": [
    "### Order Data and Calculate Means and Sums"
   ]
  },
  {
   "cell_type": "code",
   "execution_count": 17,
   "metadata": {},
   "outputs": [
    {
     "data": {
      "text/html": [
       "<div>\n",
       "<table border=\"1\" class=\"dataframe\">\n",
       "  <thead>\n",
       "    <tr style=\"text-align: right;\">\n",
       "      <th>TimeStamp</th>\n",
       "      <th>2017-07-05 01:10:28</th>\n",
       "    </tr>\n",
       "  </thead>\n",
       "  <tbody>\n",
       "    <tr>\n",
       "      <th>tre200b0</th>\n",
       "      <td>18.2</td>\n",
       "    </tr>\n",
       "    <tr>\n",
       "      <th>ure200b0</th>\n",
       "      <td>67.0</td>\n",
       "    </tr>\n",
       "    <tr>\n",
       "      <th>rre200b0</th>\n",
       "      <td>0.0</td>\n",
       "    </tr>\n",
       "    <tr>\n",
       "      <th>sre000b0</th>\n",
       "      <td>0.0</td>\n",
       "    </tr>\n",
       "    <tr>\n",
       "      <th>fu3010b0</th>\n",
       "      <td>7.6</td>\n",
       "    </tr>\n",
       "    <tr>\n",
       "      <th>prestab0</th>\n",
       "      <td>963.0</td>\n",
       "    </tr>\n",
       "    <tr>\n",
       "      <th>tre200b0_mean</th>\n",
       "      <td>19.757692307692306</td>\n",
       "    </tr>\n",
       "    <tr>\n",
       "      <th>ure200b0_mean</th>\n",
       "      <td>59.5</td>\n",
       "    </tr>\n",
       "    <tr>\n",
       "      <th>rre200b0_sum</th>\n",
       "      <td>0.0</td>\n",
       "    </tr>\n",
       "    <tr>\n",
       "      <th>sre000b0_sum</th>\n",
       "      <td>5.384615384615385</td>\n",
       "    </tr>\n",
       "    <tr>\n",
       "      <th>fu3010b0_mean</th>\n",
       "      <td>4.934615384615384</td>\n",
       "    </tr>\n",
       "    <tr>\n",
       "      <th>prestab0_mean</th>\n",
       "      <td>964.45</td>\n",
       "    </tr>\n",
       "  </tbody>\n",
       "</table>\n",
       "</div>"
      ],
      "text/plain": [
       "TimeStamp      2017-07-05 01:10:28\n",
       "tre200b0                      18.2\n",
       "ure200b0                      67.0\n",
       "rre200b0                       0.0\n",
       "sre000b0                       0.0\n",
       "fu3010b0                       7.6\n",
       "prestab0                     963.0\n",
       "tre200b0_mean   19.757692307692306\n",
       "ure200b0_mean                 59.5\n",
       "rre200b0_sum                   0.0\n",
       "sre000b0_sum     5.384615384615385\n",
       "fu3010b0_mean    4.934615384615384\n",
       "prestab0_mean               964.45"
      ]
     },
     "execution_count": 17,
     "metadata": {},
     "output_type": "execute_result"
    }
   ],
   "source": [
    "X = pd.DataFrame()\n",
    "\n",
    "lastRow = len(t_Log.axes[0]) - 1\n",
    "\n",
    "X = X.assign(tre200b0=t_Log.Temperature[[lastRow]])\n",
    "X = X.assign(ure200b0=t_Log.Humidity[[lastRow]])\n",
    "X = X.assign(rre200b0=t_Log.Rain[[lastRow]])\n",
    "X = X.assign(sre000b0=t_Log.Sunshine[[lastRow]])\n",
    "X = X.assign(fu3010b0=t_Log.Wind[[lastRow]])\n",
    "X = X.assign(prestab0=t_Log.Pressure[[lastRow]])\n",
    "#\"tre200b0\",\"ure200b0\",\"rre150b0\",\"sre000b0\",\"fu3010b0\",\"prestab0\"\n",
    "\n",
    "t_LogRolling = t_Log.rolling(len(t_Log.axes[0]))\n",
    "\n",
    "X = X.assign(tre200b0_mean=t_LogRolling.Temperature.mean())\n",
    "X = X.assign(ure200b0_mean=t_LogRolling.Humidity.mean())\n",
    "X = X.assign(rre200b0_sum=t_LogRolling.Rain.mean())\n",
    "X = X.assign(sre000b0_sum=t_LogRolling.Sunshine.mean())\n",
    "X = X.assign(fu3010b0_mean=t_LogRolling.Wind.mean())\n",
    "X = X.assign(prestab0_mean=t_LogRolling.Pressure.mean())\n",
    "\n",
    "#X = X.assign(log_sum = 0) #ToDo: Read Log and calculate the sum\n",
    "\n",
    "X.transpose()"
   ]
  },
  {
   "cell_type": "markdown",
   "metadata": {},
   "source": [
    "### Prepare DataSet (Poly, Scale)"
   ]
  },
  {
   "cell_type": "code",
   "execution_count": 18,
   "metadata": {
    "collapsed": true
   },
   "outputs": [],
   "source": [
    "from IPython.core.interactiveshell import InteractiveShell\n",
    "InteractiveShell.ast_node_interactivity = \"all\"\n",
    "\n",
    "from sklearn.preprocessing import PolynomialFeatures\n",
    "\n",
    "polyDegree = 3\n",
    "poly = PolynomialFeatures(degree=polyDegree)\n",
    "X = poly.fit_transform(X).astype(int)\n",
    "\n",
    "from sklearn.externals import joblib\n",
    "X_min_max_scaler = joblib.load('data/X_min_max_scaler.pkl')\n",
    "X = X_min_max_scaler.transform(X.reshape(1,-1))\n"
   ]
  },
  {
   "cell_type": "markdown",
   "metadata": {},
   "source": [
    "## Predict!\n",
    "- 0 - means a lot of water\n",
    "- 1 - is medium\n",
    "- 2 - device should stay off"
   ]
  },
  {
   "cell_type": "code",
   "execution_count": 19,
   "metadata": {},
   "outputs": [
    {
     "data": {
      "text/plain": [
       "array([ 370.1251444])"
      ]
     },
     "execution_count": 19,
     "metadata": {},
     "output_type": "execute_result"
    }
   ],
   "source": [
    "#if result == 1:\n",
    "#    model_reg = joblib.load('data/linreg_med_5deg.pkl')\n",
    "#    res = model_reg.predict(X)[0]\n",
    "#else:\n",
    "#    model_reg = joblib.load('data/linreg_med_5deg.pkl')\n",
    "#    res = model_reg.predict(X)[0]\n",
    "from sklearn.externals import joblib\n",
    "model = joblib.load('data/myLinReg.pkl')\n",
    "    \n",
    "y = model.predict(X)\n",
    "\n",
    "y_min_max_scaler = joblib.load('data/y_min_max_scaler.pkl')\n",
    "y_scaled = (y / y_min_max_scaler.scale_) + y_min_max_scaler.min_\n",
    "y_scaled"
   ]
  },
  {
   "cell_type": "code",
   "execution_count": 20,
   "metadata": {
    "collapsed": true
   },
   "outputs": [],
   "source": [
    "\n",
    "#K = 10\n",
    "#np.argpartition(model.coeff__,-K)[-K:]\n"
   ]
  },
  {
   "cell_type": "markdown",
   "metadata": {},
   "source": [
    "Export result to JSON"
   ]
  },
  {
   "cell_type": "code",
   "execution_count": 21,
   "metadata": {},
   "outputs": [
    {
     "name": "stdout",
     "output_type": "stream",
     "text": [
      "370.1251444\n"
     ]
    }
   ],
   "source": [
    "import json\n",
    "\n",
    "print((y_scaled[0]))\n",
    "#print(json.dumps(y_scaled, ensure_ascii=False))"
   ]
  },
  {
   "cell_type": "code",
   "execution_count": null,
   "metadata": {
    "collapsed": true
   },
   "outputs": [],
   "source": []
  }
 ],
 "metadata": {
  "kernelspec": {
   "display_name": "Python 3",
   "language": "python",
   "name": "python3"
  },
  "language_info": {
   "codemirror_mode": {
    "name": "ipython",
    "version": 3
   },
   "file_extension": ".py",
   "mimetype": "text/x-python",
   "name": "python",
   "nbconvert_exporter": "python",
   "pygments_lexer": "ipython3",
   "version": "3.4.2"
  }
 },
 "nbformat": 4,
 "nbformat_minor": 2
}
