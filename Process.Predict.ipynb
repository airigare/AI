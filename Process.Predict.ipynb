{
 "cells": [
  {
   "cell_type": "markdown",
   "metadata": {
    "deletable": true,
    "editable": true
   },
   "source": [
    "# Predict Water Amount Needed"
   ]
  },
  {
   "cell_type": "markdown",
   "metadata": {
    "deletable": true,
    "editable": true
   },
   "source": [
    "## Get and Prepare Weather Data from DataBase"
   ]
  },
  {
   "cell_type": "code",
   "execution_count": 80,
   "metadata": {
    "collapsed": false,
    "deletable": true,
    "editable": true
   },
   "outputs": [
    {
     "data": {
      "text/plain": [
       "144"
      ]
     },
     "execution_count": 80,
     "metadata": {},
     "output_type": "execute_result"
    },
    {
     "data": {
      "text/plain": [
       "array([['Wind', '10.4', datetime.datetime(2017, 4, 15, 19, 51, 41)],\n",
       "       ['Temperature', '12.0', datetime.datetime(2017, 4, 15, 19, 51, 41)],\n",
       "       ['Rain', '0.0', datetime.datetime(2017, 4, 15, 19, 51, 41)],\n",
       "       ['Pressure', '960.8', datetime.datetime(2017, 4, 15, 19, 51, 41)],\n",
       "       ['Sunshine', '0', datetime.datetime(2017, 4, 15, 19, 51, 41)],\n",
       "       ['Humidity', '62', datetime.datetime(2017, 4, 15, 19, 51, 41)],\n",
       "       ['Pressure', '960.6', datetime.datetime(2017, 4, 15, 18, 51, 40)],\n",
       "       ['Sunshine', '0', datetime.datetime(2017, 4, 15, 18, 51, 40)],\n",
       "       ['Humidity', '77', datetime.datetime(2017, 4, 15, 18, 51, 40)],\n",
       "       ['Wind', '7.6', datetime.datetime(2017, 4, 15, 18, 51, 40)],\n",
       "       ['Temperature', '11.4', datetime.datetime(2017, 4, 15, 18, 51, 40)],\n",
       "       ['Rain', '0.0', datetime.datetime(2017, 4, 15, 18, 51, 40)],\n",
       "       ['Wind', '5.8', datetime.datetime(2017, 4, 15, 17, 51, 40)],\n",
       "       ['Temperature', '11.8', datetime.datetime(2017, 4, 15, 17, 51, 40)],\n",
       "       ['Rain', '0.0', datetime.datetime(2017, 4, 15, 17, 51, 40)],\n",
       "       ['Pressure', '960.5', datetime.datetime(2017, 4, 15, 17, 51, 40)],\n",
       "       ['Sunshine', '0', datetime.datetime(2017, 4, 15, 17, 51, 40)],\n",
       "       ['Humidity', '67', datetime.datetime(2017, 4, 15, 17, 51, 40)],\n",
       "       ['Humidity', '67', datetime.datetime(2017, 4, 15, 16, 51, 40)],\n",
       "       ['Wind', '10.4', datetime.datetime(2017, 4, 15, 16, 51, 40)],\n",
       "       ['Temperature', '12.3', datetime.datetime(2017, 4, 15, 16, 51, 40)],\n",
       "       ['Rain', '0.0', datetime.datetime(2017, 4, 15, 16, 51, 40)],\n",
       "       ['Pressure', '960.5', datetime.datetime(2017, 4, 15, 16, 51, 40)],\n",
       "       ['Sunshine', '0', datetime.datetime(2017, 4, 15, 16, 51, 40)],\n",
       "       ['Temperature', '12.1', datetime.datetime(2017, 4, 15, 15, 51, 40)],\n",
       "       ['Rain', '0.0', datetime.datetime(2017, 4, 15, 15, 51, 40)],\n",
       "       ['Pressure', '960.5', datetime.datetime(2017, 4, 15, 15, 51, 40)],\n",
       "       ['Sunshine', '0', datetime.datetime(2017, 4, 15, 15, 51, 40)],\n",
       "       ['Humidity', '66', datetime.datetime(2017, 4, 15, 15, 51, 40)],\n",
       "       ['Wind', '10.1', datetime.datetime(2017, 4, 15, 15, 51, 40)],\n",
       "       ['Humidity', '56', datetime.datetime(2017, 4, 15, 14, 51, 39)],\n",
       "       ['Wind', '10.1', datetime.datetime(2017, 4, 15, 14, 51, 39)],\n",
       "       ['Temperature', '13.8', datetime.datetime(2017, 4, 15, 14, 51, 39)],\n",
       "       ['Rain', '0.0', datetime.datetime(2017, 4, 15, 14, 51, 39)],\n",
       "       ['Pressure', '960.4', datetime.datetime(2017, 4, 15, 14, 51, 39)],\n",
       "       ['Sunshine', '0', datetime.datetime(2017, 4, 15, 14, 51, 39)],\n",
       "       ['Pressure', '960.3', datetime.datetime(2017, 4, 15, 13, 51, 39)],\n",
       "       ['Sunshine', '0', datetime.datetime(2017, 4, 15, 13, 51, 39)],\n",
       "       ['Humidity', '53', datetime.datetime(2017, 4, 15, 13, 51, 39)],\n",
       "       ['Wind', '11.9', datetime.datetime(2017, 4, 15, 13, 51, 39)],\n",
       "       ['Temperature', '13.9', datetime.datetime(2017, 4, 15, 13, 51, 39)],\n",
       "       ['Rain', '0.0', datetime.datetime(2017, 4, 15, 13, 51, 39)],\n",
       "       ['Wind', '11.5', datetime.datetime(2017, 4, 15, 12, 51, 40)],\n",
       "       ['Temperature', '14.5', datetime.datetime(2017, 4, 15, 12, 51, 40)],\n",
       "       ['Rain', '0.0', datetime.datetime(2017, 4, 15, 12, 51, 40)],\n",
       "       ['Pressure', '960.3', datetime.datetime(2017, 4, 15, 12, 51, 40)],\n",
       "       ['Sunshine', '0', datetime.datetime(2017, 4, 15, 12, 51, 40)],\n",
       "       ['Humidity', '49', datetime.datetime(2017, 4, 15, 12, 51, 40)],\n",
       "       ['Humidity', '46', datetime.datetime(2017, 4, 15, 11, 51, 42)],\n",
       "       ['Wind', '9.7', datetime.datetime(2017, 4, 15, 11, 51, 42)],\n",
       "       ['Temperature', '15.1', datetime.datetime(2017, 4, 15, 11, 51, 42)],\n",
       "       ['Rain', '0.0', datetime.datetime(2017, 4, 15, 11, 51, 42)],\n",
       "       ['Pressure', '960.4', datetime.datetime(2017, 4, 15, 11, 51, 42)],\n",
       "       ['Sunshine', '0', datetime.datetime(2017, 4, 15, 11, 51, 42)],\n",
       "       ['Temperature', '13.0', datetime.datetime(2017, 4, 15, 10, 51, 38)],\n",
       "       ['Rain', '0.0', datetime.datetime(2017, 4, 15, 10, 51, 38)],\n",
       "       ['Pressure', '960.3', datetime.datetime(2017, 4, 15, 10, 51, 38)],\n",
       "       ['Sunshine', '3', datetime.datetime(2017, 4, 15, 10, 51, 38)],\n",
       "       ['Humidity', '61', datetime.datetime(2017, 4, 15, 10, 51, 38)],\n",
       "       ['Wind', '4.0', datetime.datetime(2017, 4, 15, 10, 51, 38)],\n",
       "       ['Humidity', '72', datetime.datetime(2017, 4, 15, 9, 51, 37)],\n",
       "       ['Wind', '4.7', datetime.datetime(2017, 4, 15, 9, 51, 37)],\n",
       "       ['Temperature', '11.6', datetime.datetime(2017, 4, 15, 9, 51, 37)],\n",
       "       ['Rain', '0.0', datetime.datetime(2017, 4, 15, 9, 51, 37)],\n",
       "       ['Pressure', '960.1', datetime.datetime(2017, 4, 15, 9, 51, 37)],\n",
       "       ['Sunshine', '0', datetime.datetime(2017, 4, 15, 9, 51, 37)],\n",
       "       ['Pressure', '960.4', datetime.datetime(2017, 4, 15, 8, 51, 39)],\n",
       "       ['Sunshine', '0', datetime.datetime(2017, 4, 15, 8, 51, 39)],\n",
       "       ['Humidity', '61', datetime.datetime(2017, 4, 15, 8, 51, 39)],\n",
       "       ['Wind', '0.4', datetime.datetime(2017, 4, 15, 8, 51, 39)],\n",
       "       ['Temperature', '11.3', datetime.datetime(2017, 4, 15, 8, 51, 39)],\n",
       "       ['Rain', '0.0', datetime.datetime(2017, 4, 15, 8, 51, 39)],\n",
       "       ['Wind', '1.8', datetime.datetime(2017, 4, 15, 7, 51, 36)],\n",
       "       ['Temperature', '10.5', datetime.datetime(2017, 4, 15, 7, 51, 36)],\n",
       "       ['Rain', '0.0', datetime.datetime(2017, 4, 15, 7, 51, 36)],\n",
       "       ['Pressure', '960.3', datetime.datetime(2017, 4, 15, 7, 51, 36)],\n",
       "       ['Sunshine', '0', datetime.datetime(2017, 4, 15, 7, 51, 36)],\n",
       "       ['Humidity', '61', datetime.datetime(2017, 4, 15, 7, 51, 36)],\n",
       "       ['Pressure', '959.9', datetime.datetime(2017, 4, 15, 6, 51, 36)],\n",
       "       ['Sunshine', '0', datetime.datetime(2017, 4, 15, 6, 51, 36)],\n",
       "       ['Humidity', '59', datetime.datetime(2017, 4, 15, 6, 51, 36)],\n",
       "       ['Wind', '4.7', datetime.datetime(2017, 4, 15, 6, 51, 36)],\n",
       "       ['Temperature', '10.3', datetime.datetime(2017, 4, 15, 6, 51, 36)],\n",
       "       ['Rain', '0.0', datetime.datetime(2017, 4, 15, 6, 51, 36)],\n",
       "       ['Temperature', '10.1', datetime.datetime(2017, 4, 15, 5, 51, 36)],\n",
       "       ['Rain', '0.0', datetime.datetime(2017, 4, 15, 5, 51, 36)],\n",
       "       ['Pressure', '959.8', datetime.datetime(2017, 4, 15, 5, 51, 36)],\n",
       "       ['Sunshine', '0', datetime.datetime(2017, 4, 15, 5, 51, 36)],\n",
       "       ['Humidity', '65', datetime.datetime(2017, 4, 15, 5, 51, 36)],\n",
       "       ['Wind', '3.2', datetime.datetime(2017, 4, 15, 5, 51, 36)],\n",
       "       ['Humidity', '63', datetime.datetime(2017, 4, 15, 4, 51, 36)],\n",
       "       ['Wind', '2.5', datetime.datetime(2017, 4, 15, 4, 51, 36)],\n",
       "       ['Temperature', '10.3', datetime.datetime(2017, 4, 15, 4, 51, 36)],\n",
       "       ['Rain', '0.0', datetime.datetime(2017, 4, 15, 4, 51, 36)],\n",
       "       ['Pressure', '959.9', datetime.datetime(2017, 4, 15, 4, 51, 36)],\n",
       "       ['Sunshine', '0', datetime.datetime(2017, 4, 15, 4, 51, 36)],\n",
       "       ['Pressure', '960.0', datetime.datetime(2017, 4, 15, 3, 51, 34)],\n",
       "       ['Sunshine', '0', datetime.datetime(2017, 4, 15, 3, 51, 34)],\n",
       "       ['Humidity', '59', datetime.datetime(2017, 4, 15, 3, 51, 34)],\n",
       "       ['Wind', '4.0', datetime.datetime(2017, 4, 15, 3, 51, 34)],\n",
       "       ['Temperature', '10.6', datetime.datetime(2017, 4, 15, 3, 51, 34)],\n",
       "       ['Rain', '0.0', datetime.datetime(2017, 4, 15, 3, 51, 34)],\n",
       "       ['Wind', '1.8', datetime.datetime(2017, 4, 15, 2, 51, 34)],\n",
       "       ['Temperature', '10.7', datetime.datetime(2017, 4, 15, 2, 51, 34)],\n",
       "       ['Rain', '0.0', datetime.datetime(2017, 4, 15, 2, 51, 34)],\n",
       "       ['Pressure', '960.0', datetime.datetime(2017, 4, 15, 2, 51, 34)],\n",
       "       ['Sunshine', '0', datetime.datetime(2017, 4, 15, 2, 51, 34)],\n",
       "       ['Humidity', '59', datetime.datetime(2017, 4, 15, 2, 51, 34)],\n",
       "       ['Pressure', '960.2', datetime.datetime(2017, 4, 15, 1, 51, 35)],\n",
       "       ['Sunshine', '0', datetime.datetime(2017, 4, 15, 1, 51, 35)],\n",
       "       ['Humidity', '54', datetime.datetime(2017, 4, 15, 1, 51, 35)],\n",
       "       ['Wind', '7.9', datetime.datetime(2017, 4, 15, 1, 51, 35)],\n",
       "       ['Temperature', '11.2', datetime.datetime(2017, 4, 15, 1, 51, 35)],\n",
       "       ['Rain', '0.0', datetime.datetime(2017, 4, 15, 1, 51, 35)],\n",
       "       ['Temperature', '11.1', datetime.datetime(2017, 4, 15, 0, 51, 34)],\n",
       "       ['Rain', '0.0', datetime.datetime(2017, 4, 15, 0, 51, 34)],\n",
       "       ['Pressure', '960.3', datetime.datetime(2017, 4, 15, 0, 51, 34)],\n",
       "       ['Sunshine', '0', datetime.datetime(2017, 4, 15, 0, 51, 34)],\n",
       "       ['Humidity', '57', datetime.datetime(2017, 4, 15, 0, 51, 34)],\n",
       "       ['Wind', '8.3', datetime.datetime(2017, 4, 15, 0, 51, 34)],\n",
       "       ['Humidity', '52', datetime.datetime(2017, 4, 14, 23, 51, 34)],\n",
       "       ['Wind', '10.8', datetime.datetime(2017, 4, 14, 23, 51, 34)],\n",
       "       ['Temperature', '11.7', datetime.datetime(2017, 4, 14, 23, 51, 34)],\n",
       "       ['Rain', '0.0', datetime.datetime(2017, 4, 14, 23, 51, 34)],\n",
       "       ['Pressure', '960.4', datetime.datetime(2017, 4, 14, 23, 51, 34)],\n",
       "       ['Sunshine', '0', datetime.datetime(2017, 4, 14, 23, 51, 34)],\n",
       "       ['Temperature', '11.8', datetime.datetime(2017, 4, 14, 22, 51, 34)],\n",
       "       ['Rain', '0.0', datetime.datetime(2017, 4, 14, 22, 51, 34)],\n",
       "       ['Pressure', '960.3', datetime.datetime(2017, 4, 14, 22, 51, 34)],\n",
       "       ['Sunshine', '0', datetime.datetime(2017, 4, 14, 22, 51, 34)],\n",
       "       ['Humidity', '52', datetime.datetime(2017, 4, 14, 22, 51, 34)],\n",
       "       ['Wind', '6.8', datetime.datetime(2017, 4, 14, 22, 51, 34)],\n",
       "       ['Wind', '6.5', datetime.datetime(2017, 4, 14, 21, 51, 33)],\n",
       "       ['Temperature', '12.1', datetime.datetime(2017, 4, 14, 21, 51, 33)],\n",
       "       ['Rain', '0.0', datetime.datetime(2017, 4, 14, 21, 51, 33)],\n",
       "       ['Pressure', '960.2', datetime.datetime(2017, 4, 14, 21, 51, 33)],\n",
       "       ['Sunshine', '0', datetime.datetime(2017, 4, 14, 21, 51, 33)],\n",
       "       ['Humidity', '52', datetime.datetime(2017, 4, 14, 21, 51, 33)],\n",
       "       ['Pressure', '959.5', datetime.datetime(2017, 4, 14, 20, 51, 33)],\n",
       "       ['Sunshine', '0', datetime.datetime(2017, 4, 14, 20, 51, 33)],\n",
       "       ['Humidity', '69', datetime.datetime(2017, 4, 14, 20, 51, 33)],\n",
       "       ['Wind', '1.8', datetime.datetime(2017, 4, 14, 20, 51, 33)],\n",
       "       ['Temperature', '12.2', datetime.datetime(2017, 4, 14, 20, 51, 33)],\n",
       "       ['Rain', '0.0', datetime.datetime(2017, 4, 14, 20, 51, 33)]], dtype=object)"
      ]
     },
     "execution_count": 80,
     "metadata": {},
     "output_type": "execute_result"
    }
   ],
   "source": [
    "import pymysql.cursors\n",
    "import pandas as pd\n",
    "import numpy as np\n",
    "\n",
    "pd.options.display.max_rows = 200\n",
    "#pd.set_option('display.float_format', lambda x: '%.20f' % x) #Display as Float\n",
    "pd.set_option('display.float_format', lambda x: '{:,}'.format(x)) #Display as Scientific\n",
    "\n",
    "\n",
    "connection = pymysql.connect(host = \"mikmak.cc\", user=\"sensor\", passwd=\"Gaffe2017\", db=\"weatherDW\")\n",
    "query = ('SELECT * FROM log_v_last24Hours WHERE S_Text <> \"None\"')\n",
    "\n",
    "with connection.cursor() as cursor:\n",
    "    cursor.execute(query)\n",
    "connection.commit()\n",
    "e_Log = cursor.fetchall()\n",
    "connection.close()\n",
    "\n",
    "e_Log = (np.array(e_Log))\n",
    "e_Log"
   ]
  },
  {
   "cell_type": "code",
   "execution_count": 81,
   "metadata": {
    "collapsed": false,
    "deletable": true,
    "editable": true
   },
   "outputs": [
    {
     "data": {
      "text/html": [
       "<div>\n",
       "<table border=\"1\" class=\"dataframe\">\n",
       "  <thead>\n",
       "    <tr style=\"text-align: right;\">\n",
       "      <th>ID</th>\n",
       "      <th>Humidity</th>\n",
       "      <th>Pressure</th>\n",
       "      <th>Rain</th>\n",
       "      <th>Sunshine</th>\n",
       "      <th>Temperature</th>\n",
       "      <th>Wind</th>\n",
       "    </tr>\n",
       "    <tr>\n",
       "      <th>TimeStamp</th>\n",
       "      <th></th>\n",
       "      <th></th>\n",
       "      <th></th>\n",
       "      <th></th>\n",
       "      <th></th>\n",
       "      <th></th>\n",
       "    </tr>\n",
       "  </thead>\n",
       "  <tbody>\n",
       "    <tr>\n",
       "      <th>2017-04-14 20:51:33</th>\n",
       "      <td>69.0</td>\n",
       "      <td>959.5</td>\n",
       "      <td>0.0</td>\n",
       "      <td>0.0</td>\n",
       "      <td>12.2</td>\n",
       "      <td>1.8</td>\n",
       "    </tr>\n",
       "    <tr>\n",
       "      <th>2017-04-14 21:51:33</th>\n",
       "      <td>52.0</td>\n",
       "      <td>960.2</td>\n",
       "      <td>0.0</td>\n",
       "      <td>0.0</td>\n",
       "      <td>12.1</td>\n",
       "      <td>6.5</td>\n",
       "    </tr>\n",
       "    <tr>\n",
       "      <th>2017-04-14 22:51:34</th>\n",
       "      <td>52.0</td>\n",
       "      <td>960.3</td>\n",
       "      <td>0.0</td>\n",
       "      <td>0.0</td>\n",
       "      <td>11.8</td>\n",
       "      <td>6.8</td>\n",
       "    </tr>\n",
       "    <tr>\n",
       "      <th>2017-04-14 23:51:34</th>\n",
       "      <td>52.0</td>\n",
       "      <td>960.4</td>\n",
       "      <td>0.0</td>\n",
       "      <td>0.0</td>\n",
       "      <td>11.7</td>\n",
       "      <td>10.8</td>\n",
       "    </tr>\n",
       "    <tr>\n",
       "      <th>2017-04-15 00:51:34</th>\n",
       "      <td>57.0</td>\n",
       "      <td>960.3</td>\n",
       "      <td>0.0</td>\n",
       "      <td>0.0</td>\n",
       "      <td>11.1</td>\n",
       "      <td>8.3</td>\n",
       "    </tr>\n",
       "  </tbody>\n",
       "</table>\n",
       "</div>"
      ],
      "text/plain": [
       "ID                   Humidity  Pressure  Rain  Sunshine  Temperature  Wind\n",
       "TimeStamp                                                                 \n",
       "2017-04-14 20:51:33      69.0     959.5   0.0       0.0         12.2   1.8\n",
       "2017-04-14 21:51:33      52.0     960.2   0.0       0.0         12.1   6.5\n",
       "2017-04-14 22:51:34      52.0     960.3   0.0       0.0         11.8   6.8\n",
       "2017-04-14 23:51:34      52.0     960.4   0.0       0.0         11.7  10.8\n",
       "2017-04-15 00:51:34      57.0     960.3   0.0       0.0         11.1   8.3"
      ]
     },
     "execution_count": 81,
     "metadata": {},
     "output_type": "execute_result"
    }
   ],
   "source": [
    "from IPython.core.interactiveshell import InteractiveShell\n",
    "InteractiveShell.ast_node_interactivity = \"all\"\n",
    "\n",
    "t_Log = e_Log\n",
    "\n",
    "t_Log = pd.DataFrame(data = t_Log[1:,:],\n",
    "                     index = t_Log[1:,2],\n",
    "                     columns =[\"ID\",\"Value\",\"TimeStamp\"] )\n",
    "\n",
    "t_Log = t_Log[t_Log != '-'] #DataSet contains some missing values, remove them\n",
    "\n",
    "t_Log = t_Log.pivot(index='TimeStamp', columns='ID', values='Value')\n",
    "t_Log = t_Log.sort_index(ascending = True) #It should be ascending, for rolling calculation later\n",
    "t_Log = t_Log.dropna(how = \"any\")\n",
    "t_Log = t_Log.astype(float)\n",
    "\n",
    "t_Log.head()\n"
   ]
  },
  {
   "cell_type": "markdown",
   "metadata": {
    "collapsed": true,
    "deletable": true,
    "editable": true
   },
   "source": [
    "## Transform Data into Input Vector"
   ]
  },
  {
   "cell_type": "markdown",
   "metadata": {
    "deletable": true,
    "editable": true
   },
   "source": [
    "### Order Data and Calculate Means and Sums"
   ]
  },
  {
   "cell_type": "code",
   "execution_count": 82,
   "metadata": {
    "collapsed": false,
    "deletable": true,
    "editable": true
   },
   "outputs": [
    {
     "data": {
      "text/html": [
       "<div>\n",
       "<table border=\"1\" class=\"dataframe\">\n",
       "  <thead>\n",
       "    <tr style=\"text-align: right;\">\n",
       "      <th>TimeStamp</th>\n",
       "      <th>2017-04-15 18:51:40</th>\n",
       "    </tr>\n",
       "  </thead>\n",
       "  <tbody>\n",
       "    <tr>\n",
       "      <th>tre200b0</th>\n",
       "      <td>11.4</td>\n",
       "    </tr>\n",
       "    <tr>\n",
       "      <th>ure200b0</th>\n",
       "      <td>77.0</td>\n",
       "    </tr>\n",
       "    <tr>\n",
       "      <th>rre200b0</th>\n",
       "      <td>0.0</td>\n",
       "    </tr>\n",
       "    <tr>\n",
       "      <th>sre000b0</th>\n",
       "      <td>0.0</td>\n",
       "    </tr>\n",
       "    <tr>\n",
       "      <th>fu3010b0</th>\n",
       "      <td>7.6</td>\n",
       "    </tr>\n",
       "    <tr>\n",
       "      <th>prestab0</th>\n",
       "      <td>960.6</td>\n",
       "    </tr>\n",
       "    <tr>\n",
       "      <th>tre200b0_mean</th>\n",
       "      <td>11.88695652173913</td>\n",
       "    </tr>\n",
       "    <tr>\n",
       "      <th>ure200b0_mean</th>\n",
       "      <td>59.869565217391305</td>\n",
       "    </tr>\n",
       "    <tr>\n",
       "      <th>rre200b0_sum</th>\n",
       "      <td>0.0</td>\n",
       "    </tr>\n",
       "    <tr>\n",
       "      <th>sre000b0_sum</th>\n",
       "      <td>3.0</td>\n",
       "    </tr>\n",
       "    <tr>\n",
       "      <th>fu3010b0_mean</th>\n",
       "      <td>6.360869565217392</td>\n",
       "    </tr>\n",
       "    <tr>\n",
       "      <th>prestab0_mean</th>\n",
       "      <td>960.2217391304346</td>\n",
       "    </tr>\n",
       "  </tbody>\n",
       "</table>\n",
       "</div>"
      ],
      "text/plain": [
       "TimeStamp      2017-04-15 18:51:40\n",
       "tre200b0                      11.4\n",
       "ure200b0                      77.0\n",
       "rre200b0                       0.0\n",
       "sre000b0                       0.0\n",
       "fu3010b0                       7.6\n",
       "prestab0                     960.6\n",
       "tre200b0_mean    11.88695652173913\n",
       "ure200b0_mean   59.869565217391305\n",
       "rre200b0_sum                   0.0\n",
       "sre000b0_sum                   3.0\n",
       "fu3010b0_mean    6.360869565217392\n",
       "prestab0_mean    960.2217391304346"
      ]
     },
     "execution_count": 82,
     "metadata": {},
     "output_type": "execute_result"
    }
   ],
   "source": [
    "X = pd.DataFrame()\n",
    "\n",
    "lastRow = len(t_Log.axes[0]) - 1\n",
    "\n",
    "X = X.assign(tre200b0=t_Log.Temperature[[lastRow]])\n",
    "X = X.assign(ure200b0=t_Log.Humidity[[lastRow]])\n",
    "X = X.assign(rre200b0=t_Log.Rain[[lastRow]])\n",
    "X = X.assign(sre000b0=t_Log.Sunshine[[lastRow]])\n",
    "X = X.assign(fu3010b0=t_Log.Wind[[lastRow]])\n",
    "X = X.assign(prestab0=t_Log.Pressure[[lastRow]])\n",
    "#\"tre200b0\",\"ure200b0\",\"rre150b0\",\"sre000b0\",\"fu3010b0\",\"prestab0\"\n",
    "\n",
    "t_LogRolling = t_Log.rolling(len(t_Log.axes[0]))\n",
    "\n",
    "X = X.assign(tre200b0_mean=t_LogRolling.Temperature.mean())\n",
    "X = X.assign(ure200b0_mean=t_LogRolling.Humidity.mean())\n",
    "X = X.assign(rre200b0_sum=t_LogRolling.Rain.sum())\n",
    "X = X.assign(sre000b0_sum=t_LogRolling.Sunshine.sum())\n",
    "X = X.assign(fu3010b0_mean=t_LogRolling.Wind.mean())\n",
    "X = X.assign(prestab0_mean=t_LogRolling.Pressure.mean())\n",
    "\n",
    "X.transpose()"
   ]
  },
  {
   "cell_type": "markdown",
   "metadata": {
    "deletable": true,
    "editable": true
   },
   "source": [
    "### Poly Features etc."
   ]
  },
  {
   "cell_type": "code",
   "execution_count": 83,
   "metadata": {
    "collapsed": false,
    "deletable": true,
    "editable": true
   },
   "outputs": [],
   "source": [
    "from IPython.core.interactiveshell import InteractiveShell\n",
    "InteractiveShell.ast_node_interactivity = \"all\"\n",
    "\n",
    "from sklearn.preprocessing import PolynomialFeatures\n",
    "\n",
    "polyDegree = 5\n",
    "poly = PolynomialFeatures(degree=polyDegree)\n",
    "X = poly.fit_transform(X).astype(int)\n",
    "\n",
    "#poly.n_output_features_ \n",
    "#pd.DataFrame(X).transpose()"
   ]
  },
  {
   "cell_type": "markdown",
   "metadata": {
    "deletable": true,
    "editable": true
   },
   "source": [
    "## Classify!\n",
    "Use Logistic Regression Modell to decide if \n",
    "- no water at all or \n",
    "- a lot of water or \n",
    "- normal amount of water\n",
    "is needed"
   ]
  },
  {
   "cell_type": "markdown",
   "metadata": {
    "deletable": true,
    "editable": true
   },
   "source": [
    "### Load Model"
   ]
  },
  {
   "cell_type": "code",
   "execution_count": 84,
   "metadata": {
    "collapsed": false,
    "deletable": true,
    "editable": true
   },
   "outputs": [],
   "source": [
    "from sklearn.externals import joblib\n",
    "model = joblib.load('plant.Watering.data/logreg_5deg.pkl')"
   ]
  },
  {
   "cell_type": "markdown",
   "metadata": {
    "deletable": true,
    "editable": true
   },
   "source": [
    "### Do Calculation and Show Result\n",
    "- 0 - means a lot of water\n",
    "- 1 - is medium\n",
    "- 2 - device should stay off"
   ]
  },
  {
   "cell_type": "code",
   "execution_count": 85,
   "metadata": {
    "collapsed": false,
    "deletable": true,
    "editable": true
   },
   "outputs": [
    {
     "data": {
      "text/plain": [
       "'Med'"
      ]
     },
     "execution_count": 85,
     "metadata": {},
     "output_type": "execute_result"
    }
   ],
   "source": [
    "result = model.predict(X)[0]\n",
    "\n",
    "from sklearn import preprocessing\n",
    "le = joblib.load('plant.Watering.data/leModel.pkl')\n",
    "le.inverse_transform(result)\n"
   ]
  },
  {
   "cell_type": "markdown",
   "metadata": {
    "deletable": true,
    "editable": true
   },
   "source": [
    "This is very good!"
   ]
  },
  {
   "cell_type": "code",
   "execution_count": 86,
   "metadata": {
    "collapsed": false,
    "deletable": true,
    "editable": true
   },
   "outputs": [],
   "source": [
    "#pd.DataFrame(model.coef_.transpose())"
   ]
  },
  {
   "cell_type": "code",
   "execution_count": 87,
   "metadata": {
    "collapsed": false,
    "deletable": true,
    "editable": true
   },
   "outputs": [
    {
     "ename": "SyntaxError",
     "evalue": "invalid syntax (<ipython-input-87-f78ffcb5c1e0>, line 1)",
     "output_type": "error",
     "traceback": [
      "\u001b[0;36m  File \u001b[0;32m\"<ipython-input-87-f78ffcb5c1e0>\"\u001b[0;36m, line \u001b[0;32m1\u001b[0m\n\u001b[0;31m    if\u001b[0m\n\u001b[0m      ^\u001b[0m\n\u001b[0;31mSyntaxError\u001b[0m\u001b[0;31m:\u001b[0m invalid syntax\n"
     ]
    }
   ],
   "source": [
    "if"
   ]
  }
 ],
 "metadata": {
  "kernelspec": {
   "display_name": "Python 3",
   "language": "python",
   "name": "python3"
  },
  "language_info": {
   "codemirror_mode": {
    "name": "ipython",
    "version": 3
   },
   "file_extension": ".py",
   "mimetype": "text/x-python",
   "name": "python",
   "nbconvert_exporter": "python",
   "pygments_lexer": "ipython3",
   "version": "3.4.2"
  }
 },
 "nbformat": 4,
 "nbformat_minor": 2
}
