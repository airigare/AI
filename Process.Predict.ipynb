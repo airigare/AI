{
 "cells": [
  {
   "cell_type": "markdown",
   "metadata": {},
   "source": [
    "# Predict Water Amount Needed"
   ]
  },
  {
   "cell_type": "markdown",
   "metadata": {},
   "source": [
    "## Get and Prepare Weather Data from DataBase"
   ]
  },
  {
   "cell_type": "code",
   "execution_count": 73,
   "metadata": {},
   "outputs": [
    {
     "data": {
      "text/plain": [
       "138"
      ]
     },
     "execution_count": 73,
     "metadata": {},
     "output_type": "execute_result"
    }
   ],
   "source": [
    "import pymysql.cursors\n",
    "import pandas as pd\n",
    "import numpy as np\n",
    "\n",
    "pd.options.display.max_rows = 200\n",
    "#pd.set_option('display.float_format', lambda x: '%.20f' % x) #Display as Float\n",
    "pd.set_option('display.float_format', lambda x: '{:,}'.format(x)) #Display as Scientific\n",
    "\n",
    "\n",
    "connection = pymysql.connect(host = \"mikmak.cc\", user=\"sensor\", passwd=\"Gaffe2017\", db=\"weatherDW\")\n",
    "query = ('SELECT * FROM log_v_last24Hours WHERE S_Text <> \"None\"')\n",
    "\n",
    "with connection.cursor() as cursor:\n",
    "    cursor.execute(query)\n",
    "connection.commit()\n",
    "e_Log = cursor.fetchall()\n",
    "connection.close()\n",
    "\n",
    "e_Log = (np.array(e_Log))"
   ]
  },
  {
   "cell_type": "code",
   "execution_count": 74,
   "metadata": {},
   "outputs": [
    {
     "data": {
      "text/html": [
       "<div>\n",
       "<table border=\"1\" class=\"dataframe\">\n",
       "  <thead>\n",
       "    <tr style=\"text-align: right;\">\n",
       "      <th>ID</th>\n",
       "      <th>Humidity</th>\n",
       "      <th>Pressure</th>\n",
       "      <th>Rain</th>\n",
       "      <th>Sunshine</th>\n",
       "      <th>Temperature</th>\n",
       "      <th>Wind</th>\n",
       "    </tr>\n",
       "    <tr>\n",
       "      <th>TimeStamp</th>\n",
       "      <th></th>\n",
       "      <th></th>\n",
       "      <th></th>\n",
       "      <th></th>\n",
       "      <th></th>\n",
       "      <th></th>\n",
       "    </tr>\n",
       "  </thead>\n",
       "  <tbody>\n",
       "    <tr>\n",
       "      <th>2017-04-25 14:35:48</th>\n",
       "      <td>78.0</td>\n",
       "      <td>951.8</td>\n",
       "      <td>0.4</td>\n",
       "      <td>0.0</td>\n",
       "      <td>11.2</td>\n",
       "      <td>24.8</td>\n",
       "    </tr>\n",
       "    <tr>\n",
       "      <th>2017-04-25 15:35:50</th>\n",
       "      <td>85.0</td>\n",
       "      <td>952.1</td>\n",
       "      <td>0.1</td>\n",
       "      <td>0.0</td>\n",
       "      <td>10.4</td>\n",
       "      <td>14.8</td>\n",
       "    </tr>\n",
       "    <tr>\n",
       "      <th>2017-04-25 16:35:50</th>\n",
       "      <td>88.0</td>\n",
       "      <td>951.9</td>\n",
       "      <td>0.1</td>\n",
       "      <td>0.0</td>\n",
       "      <td>10.1</td>\n",
       "      <td>5.4</td>\n",
       "    </tr>\n",
       "    <tr>\n",
       "      <th>2017-04-25 17:35:50</th>\n",
       "      <td>88.0</td>\n",
       "      <td>951.7</td>\n",
       "      <td>0.1</td>\n",
       "      <td>0.0</td>\n",
       "      <td>9.4</td>\n",
       "      <td>3.6</td>\n",
       "    </tr>\n",
       "    <tr>\n",
       "      <th>2017-04-25 18:35:51</th>\n",
       "      <td>88.0</td>\n",
       "      <td>951.6</td>\n",
       "      <td>0.3</td>\n",
       "      <td>0.0</td>\n",
       "      <td>8.9</td>\n",
       "      <td>3.2</td>\n",
       "    </tr>\n",
       "  </tbody>\n",
       "</table>\n",
       "</div>"
      ],
      "text/plain": [
       "ID                   Humidity  Pressure  Rain  Sunshine  Temperature  Wind\n",
       "TimeStamp                                                                 \n",
       "2017-04-25 14:35:48      78.0     951.8   0.4       0.0         11.2  24.8\n",
       "2017-04-25 15:35:50      85.0     952.1   0.1       0.0         10.4  14.8\n",
       "2017-04-25 16:35:50      88.0     951.9   0.1       0.0         10.1   5.4\n",
       "2017-04-25 17:35:50      88.0     951.7   0.1       0.0          9.4   3.6\n",
       "2017-04-25 18:35:51      88.0     951.6   0.3       0.0          8.9   3.2"
      ]
     },
     "execution_count": 74,
     "metadata": {},
     "output_type": "execute_result"
    }
   ],
   "source": [
    "from IPython.core.interactiveshell import InteractiveShell\n",
    "InteractiveShell.ast_node_interactivity = \"all\"\n",
    "\n",
    "t_Log = e_Log\n",
    "\n",
    "t_Log = pd.DataFrame(data = t_Log[1:,:],\n",
    "                     index = t_Log[1:,2],\n",
    "                     columns =[\"ID\",\"Value\",\"TimeStamp\"] )\n",
    "\n",
    "t_Log = t_Log[t_Log != '-'] #DataSet contains some missing values, remove them\n",
    "\n",
    "t_Log = t_Log.pivot(index='TimeStamp', columns='ID', values='Value')\n",
    "t_Log = t_Log.sort_index(ascending = True) #It should be ascending, for rolling calculation later\n",
    "t_Log = t_Log.dropna(how = \"any\")\n",
    "t_Log = t_Log.astype(float)\n",
    "\n",
    "t_Log.tail()\n"
   ]
  },
  {
   "cell_type": "markdown",
   "metadata": {
    "collapsed": true
   },
   "source": [
    "## Transform Data into Input Vector"
   ]
  },
  {
   "cell_type": "markdown",
   "metadata": {},
   "source": [
    "### Order Data and Calculate Means and Sums"
   ]
  },
  {
   "cell_type": "code",
   "execution_count": 75,
   "metadata": {},
   "outputs": [
    {
     "data": {
      "text/html": [
       "<div>\n",
       "<table border=\"1\" class=\"dataframe\">\n",
       "  <thead>\n",
       "    <tr style=\"text-align: right;\">\n",
       "      <th>TimeStamp</th>\n",
       "      <th>2017-04-25 18:35:51</th>\n",
       "    </tr>\n",
       "  </thead>\n",
       "  <tbody>\n",
       "    <tr>\n",
       "      <th>tre200b0</th>\n",
       "      <td>8.9</td>\n",
       "    </tr>\n",
       "    <tr>\n",
       "      <th>ure200b0</th>\n",
       "      <td>88.0</td>\n",
       "    </tr>\n",
       "    <tr>\n",
       "      <th>rre200b0</th>\n",
       "      <td>0.3</td>\n",
       "    </tr>\n",
       "    <tr>\n",
       "      <th>sre000b0</th>\n",
       "      <td>0.0</td>\n",
       "    </tr>\n",
       "    <tr>\n",
       "      <th>fu3010b0</th>\n",
       "      <td>3.2</td>\n",
       "    </tr>\n",
       "    <tr>\n",
       "      <th>prestab0</th>\n",
       "      <td>951.6</td>\n",
       "    </tr>\n",
       "    <tr>\n",
       "      <th>tre200b0_mean</th>\n",
       "      <td>12.286363636363633</td>\n",
       "    </tr>\n",
       "    <tr>\n",
       "      <th>ure200b0_mean</th>\n",
       "      <td>67.18181818181819</td>\n",
       "    </tr>\n",
       "    <tr>\n",
       "      <th>rre200b0_sum</th>\n",
       "      <td>1.2</td>\n",
       "    </tr>\n",
       "    <tr>\n",
       "      <th>sre000b0_sum</th>\n",
       "      <td>5.0</td>\n",
       "    </tr>\n",
       "    <tr>\n",
       "      <th>fu3010b0_mean</th>\n",
       "      <td>9.718181818181817</td>\n",
       "    </tr>\n",
       "    <tr>\n",
       "      <th>prestab0_mean</th>\n",
       "      <td>952.4727272727273</td>\n",
       "    </tr>\n",
       "  </tbody>\n",
       "</table>\n",
       "</div>"
      ],
      "text/plain": [
       "TimeStamp      2017-04-25 18:35:51\n",
       "tre200b0                       8.9\n",
       "ure200b0                      88.0\n",
       "rre200b0                       0.3\n",
       "sre000b0                       0.0\n",
       "fu3010b0                       3.2\n",
       "prestab0                     951.6\n",
       "tre200b0_mean   12.286363636363633\n",
       "ure200b0_mean    67.18181818181819\n",
       "rre200b0_sum                   1.2\n",
       "sre000b0_sum                   5.0\n",
       "fu3010b0_mean    9.718181818181817\n",
       "prestab0_mean    952.4727272727273"
      ]
     },
     "execution_count": 75,
     "metadata": {},
     "output_type": "execute_result"
    }
   ],
   "source": [
    "X = pd.DataFrame()\n",
    "\n",
    "lastRow = len(t_Log.axes[0]) - 1\n",
    "\n",
    "X = X.assign(tre200b0=t_Log.Temperature[[lastRow]])\n",
    "X = X.assign(ure200b0=t_Log.Humidity[[lastRow]])\n",
    "X = X.assign(rre200b0=t_Log.Rain[[lastRow]])\n",
    "X = X.assign(sre000b0=t_Log.Sunshine[[lastRow]])\n",
    "X = X.assign(fu3010b0=t_Log.Wind[[lastRow]])\n",
    "X = X.assign(prestab0=t_Log.Pressure[[lastRow]])\n",
    "#\"tre200b0\",\"ure200b0\",\"rre150b0\",\"sre000b0\",\"fu3010b0\",\"prestab0\"\n",
    "\n",
    "t_LogRolling = t_Log.rolling(len(t_Log.axes[0]))\n",
    "\n",
    "X = X.assign(tre200b0_mean=t_LogRolling.Temperature.mean())\n",
    "X = X.assign(ure200b0_mean=t_LogRolling.Humidity.mean())\n",
    "X = X.assign(rre200b0_sum=t_LogRolling.Rain.sum())\n",
    "X = X.assign(sre000b0_sum=t_LogRolling.Sunshine.sum())\n",
    "X = X.assign(fu3010b0_mean=t_LogRolling.Wind.mean())\n",
    "X = X.assign(prestab0_mean=t_LogRolling.Pressure.mean())\n",
    "\n",
    "X.transpose()"
   ]
  },
  {
   "cell_type": "markdown",
   "metadata": {},
   "source": [
    "### Poly Features etc."
   ]
  },
  {
   "cell_type": "code",
   "execution_count": 76,
   "metadata": {
    "collapsed": true
   },
   "outputs": [],
   "source": [
    "from IPython.core.interactiveshell import InteractiveShell\n",
    "InteractiveShell.ast_node_interactivity = \"all\"\n",
    "\n",
    "from sklearn.preprocessing import PolynomialFeatures\n",
    "\n",
    "polyDegree = 5\n",
    "poly = PolynomialFeatures(degree=polyDegree)\n",
    "X = poly.fit_transform(X).astype(int)\n",
    "\n",
    "#poly.n_output_features_ \n",
    "#pd.DataFrame(X).transpose()"
   ]
  },
  {
   "cell_type": "markdown",
   "metadata": {},
   "source": [
    "## Classify!\n",
    "Use Logistic Regression Modell to decide if \n",
    "- no water at all or \n",
    "- a lot of water or \n",
    "- normal amount of water\n",
    "is needed"
   ]
  },
  {
   "cell_type": "markdown",
   "metadata": {},
   "source": [
    "### Load Model"
   ]
  },
  {
   "cell_type": "code",
   "execution_count": 77,
   "metadata": {
    "collapsed": true
   },
   "outputs": [],
   "source": [
    "from sklearn.externals import joblib\n",
    "model = joblib.load('data/logreg_5deg.pkl')"
   ]
  },
  {
   "cell_type": "markdown",
   "metadata": {},
   "source": [
    "### Do Calculation and Show Result\n",
    "- 0 - means a lot of water\n",
    "- 1 - is medium\n",
    "- 2 - device should stay off"
   ]
  },
  {
   "cell_type": "code",
   "execution_count": 78,
   "metadata": {},
   "outputs": [
    {
     "data": {
      "text/plain": [
       "1"
      ]
     },
     "execution_count": 78,
     "metadata": {},
     "output_type": "execute_result"
    },
    {
     "data": {
      "text/plain": [
       "'Med'"
      ]
     },
     "execution_count": 78,
     "metadata": {},
     "output_type": "execute_result"
    }
   ],
   "source": [
    "result = model.predict(X)[0]\n",
    "result\n",
    "\n",
    "from sklearn import preprocessing\n",
    "le = joblib.load('data/leModel.pkl')\n",
    "le.inverse_transform(result)\n"
   ]
  },
  {
   "cell_type": "markdown",
   "metadata": {},
   "source": [
    "This is very good!"
   ]
  },
  {
   "cell_type": "code",
   "execution_count": 79,
   "metadata": {
    "collapsed": true
   },
   "outputs": [],
   "source": [
    "#pd.DataFrame(model.coef_.transpose())"
   ]
  },
  {
   "cell_type": "code",
   "execution_count": 80,
   "metadata": {},
   "outputs": [
    {
     "data": {
      "text/plain": [
       "369.72291740060382"
      ]
     },
     "execution_count": 80,
     "metadata": {},
     "output_type": "execute_result"
    }
   ],
   "source": [
    "if result == 1:\n",
    "    model_reg = joblib.load('data/linreg_med_5deg.pkl')\n",
    "    res = model_reg.predict(X)[0]\n",
    "else:\n",
    "    model_reg = joblib.load('data/linreg_med_5deg.pkl')\n",
    "    res = model_reg.predict(X)[0]\n",
    "\n",
    "    \n",
    "res"
   ]
  },
  {
   "cell_type": "code",
   "execution_count": 81,
   "metadata": {},
   "outputs": [
    {
     "data": {
      "text/plain": [
       "array([3980, 4176, 4171, 4173, 3998, 4052, 4050, 5748, 5730, 6167])"
      ]
     },
     "execution_count": 81,
     "metadata": {},
     "output_type": "execute_result"
    }
   ],
   "source": [
    "\n",
    "K = 10\n",
    "np.argpartition(model_reg.coef_,-K)[-K:]"
   ]
  },
  {
   "cell_type": "code",
   "execution_count": null,
   "metadata": {},
   "outputs": [],
   "source": []
  },
  {
   "cell_type": "code",
   "execution_count": null,
   "metadata": {
    "collapsed": true
   },
   "outputs": [],
   "source": []
  }
 ],
 "metadata": {
  "kernelspec": {
   "display_name": "Python 3",
   "language": "python",
   "name": "python3"
  },
  "language_info": {
   "codemirror_mode": {
    "name": "ipython",
    "version": 3
   },
   "file_extension": ".py",
   "mimetype": "text/x-python",
   "name": "python",
   "nbconvert_exporter": "python",
   "pygments_lexer": "ipython3",
   "version": "3.4.2"
  }
 },
 "nbformat": 4,
 "nbformat_minor": 2
}
