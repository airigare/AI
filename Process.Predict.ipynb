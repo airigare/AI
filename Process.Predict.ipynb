{
 "cells": [
  {
   "cell_type": "markdown",
   "metadata": {},
   "source": [
    "# Predict Water Amount Needed"
   ]
  },
  {
   "cell_type": "markdown",
   "metadata": {},
   "source": [
    "## Get and Prepare Weather Data from DataBase"
   ]
  },
  {
   "cell_type": "code",
   "execution_count": 45,
   "metadata": {},
   "outputs": [
    {
     "data": {
      "text/plain": [
       "144"
      ]
     },
     "execution_count": 45,
     "metadata": {},
     "output_type": "execute_result"
    }
   ],
   "source": [
    "import pymysql.cursors\n",
    "import pandas as pd\n",
    "import numpy as np\n",
    "\n",
    "pd.options.display.max_rows = 200\n",
    "#pd.set_option('display.float_format', lambda x: '%.20f' % x) #Display as Float\n",
    "pd.set_option('display.float_format', lambda x: '{:,}'.format(x)) #Display as Scientific\n",
    "\n",
    "\n",
    "connection = pymysql.connect(host = \"mikmak.cc\", user=\"sensor\", passwd=\"Gaffe2017\", db=\"weatherDW\")\n",
    "query = ('SELECT * FROM log_v_last24Hours WHERE S_Text <> \"None\"')\n",
    "\n",
    "with connection.cursor() as cursor:\n",
    "    cursor.execute(query)\n",
    "connection.commit()\n",
    "e_Log = cursor.fetchall()\n",
    "connection.close()\n",
    "\n",
    "e_Log = (np.array(e_Log))"
   ]
  },
  {
   "cell_type": "code",
   "execution_count": 46,
   "metadata": {},
   "outputs": [
    {
     "data": {
      "text/html": [
       "<div>\n",
       "<table border=\"1\" class=\"dataframe\">\n",
       "  <thead>\n",
       "    <tr style=\"text-align: right;\">\n",
       "      <th>ID</th>\n",
       "      <th>Humidity</th>\n",
       "      <th>Pressure</th>\n",
       "      <th>Rain</th>\n",
       "      <th>Sunshine</th>\n",
       "      <th>Temperature</th>\n",
       "      <th>Wind</th>\n",
       "    </tr>\n",
       "    <tr>\n",
       "      <th>TimeStamp</th>\n",
       "      <th></th>\n",
       "      <th></th>\n",
       "      <th></th>\n",
       "      <th></th>\n",
       "      <th></th>\n",
       "      <th></th>\n",
       "    </tr>\n",
       "  </thead>\n",
       "  <tbody>\n",
       "    <tr>\n",
       "      <th>2017-04-29 18:36:18</th>\n",
       "      <td>36.0</td>\n",
       "      <td>958.5</td>\n",
       "      <td>0.0</td>\n",
       "      <td>10.0</td>\n",
       "      <td>11.9</td>\n",
       "      <td>4.0</td>\n",
       "    </tr>\n",
       "    <tr>\n",
       "      <th>2017-04-29 19:36:16</th>\n",
       "      <td>39.0</td>\n",
       "      <td>958.1</td>\n",
       "      <td>0.0</td>\n",
       "      <td>10.0</td>\n",
       "      <td>11.5</td>\n",
       "      <td>3.2</td>\n",
       "    </tr>\n",
       "    <tr>\n",
       "      <th>2017-04-29 20:36:17</th>\n",
       "      <td>55.0</td>\n",
       "      <td>957.9</td>\n",
       "      <td>0.0</td>\n",
       "      <td>5.0</td>\n",
       "      <td>9.1</td>\n",
       "      <td>4.7</td>\n",
       "    </tr>\n",
       "    <tr>\n",
       "      <th>2017-04-29 21:36:21</th>\n",
       "      <td>64.0</td>\n",
       "      <td>958.1</td>\n",
       "      <td>0.0</td>\n",
       "      <td>0.0</td>\n",
       "      <td>7.1</td>\n",
       "      <td>8.3</td>\n",
       "    </tr>\n",
       "    <tr>\n",
       "      <th>2017-04-29 22:36:24</th>\n",
       "      <td>68.0</td>\n",
       "      <td>958.1</td>\n",
       "      <td>0.0</td>\n",
       "      <td>0.0</td>\n",
       "      <td>6.3</td>\n",
       "      <td>13.0</td>\n",
       "    </tr>\n",
       "  </tbody>\n",
       "</table>\n",
       "</div>"
      ],
      "text/plain": [
       "ID                   Humidity  Pressure  Rain  Sunshine  Temperature  Wind\n",
       "TimeStamp                                                                 \n",
       "2017-04-29 18:36:18      36.0     958.5   0.0      10.0         11.9   4.0\n",
       "2017-04-29 19:36:16      39.0     958.1   0.0      10.0         11.5   3.2\n",
       "2017-04-29 20:36:17      55.0     957.9   0.0       5.0          9.1   4.7\n",
       "2017-04-29 21:36:21      64.0     958.1   0.0       0.0          7.1   8.3\n",
       "2017-04-29 22:36:24      68.0     958.1   0.0       0.0          6.3  13.0"
      ]
     },
     "execution_count": 46,
     "metadata": {},
     "output_type": "execute_result"
    }
   ],
   "source": [
    "from IPython.core.interactiveshell import InteractiveShell\n",
    "InteractiveShell.ast_node_interactivity = \"all\"\n",
    "\n",
    "t_Log = e_Log\n",
    "\n",
    "t_Log = pd.DataFrame(data = t_Log[1:,:],\n",
    "                     index = t_Log[1:,2],\n",
    "                     columns =[\"ID\",\"Value\",\"TimeStamp\"] )\n",
    "\n",
    "t_Log = t_Log[t_Log != '-'] #DataSet contains some missing values, remove them\n",
    "\n",
    "t_Log = t_Log.pivot(index='TimeStamp', columns='ID', values='Value')\n",
    "t_Log = t_Log.sort_index(ascending = True) #It should be ascending, for rolling calculation later\n",
    "t_Log = t_Log.dropna(how = \"any\")\n",
    "t_Log = t_Log.astype(float)\n",
    "\n",
    "t_Log.tail()\n"
   ]
  },
  {
   "cell_type": "markdown",
   "metadata": {
    "collapsed": true
   },
   "source": [
    "## Transform Data into Input Vector"
   ]
  },
  {
   "cell_type": "markdown",
   "metadata": {},
   "source": [
    "### Order Data and Calculate Means and Sums"
   ]
  },
  {
   "cell_type": "code",
   "execution_count": 47,
   "metadata": {},
   "outputs": [
    {
     "data": {
      "text/html": [
       "<div>\n",
       "<table border=\"1\" class=\"dataframe\">\n",
       "  <thead>\n",
       "    <tr style=\"text-align: right;\">\n",
       "      <th>TimeStamp</th>\n",
       "      <th>2017-04-29 22:36:24</th>\n",
       "    </tr>\n",
       "  </thead>\n",
       "  <tbody>\n",
       "    <tr>\n",
       "      <th>tre200b0</th>\n",
       "      <td>6.3</td>\n",
       "    </tr>\n",
       "    <tr>\n",
       "      <th>ure200b0</th>\n",
       "      <td>68.0</td>\n",
       "    </tr>\n",
       "    <tr>\n",
       "      <th>rre200b0</th>\n",
       "      <td>0.0</td>\n",
       "    </tr>\n",
       "    <tr>\n",
       "      <th>sre000b0</th>\n",
       "      <td>0.0</td>\n",
       "    </tr>\n",
       "    <tr>\n",
       "      <th>fu3010b0</th>\n",
       "      <td>13.0</td>\n",
       "    </tr>\n",
       "    <tr>\n",
       "      <th>prestab0</th>\n",
       "      <td>958.1</td>\n",
       "    </tr>\n",
       "    <tr>\n",
       "      <th>tre200b0_mean</th>\n",
       "      <td>6.330434782608696</td>\n",
       "    </tr>\n",
       "    <tr>\n",
       "      <th>ure200b0_mean</th>\n",
       "      <td>66.3913043478261</td>\n",
       "    </tr>\n",
       "    <tr>\n",
       "      <th>rre200b0_sum</th>\n",
       "      <td>0.0</td>\n",
       "    </tr>\n",
       "    <tr>\n",
       "      <th>sre000b0_sum</th>\n",
       "      <td>5.869565217391305</td>\n",
       "    </tr>\n",
       "    <tr>\n",
       "      <th>fu3010b0_mean</th>\n",
       "      <td>6.334782608695653</td>\n",
       "    </tr>\n",
       "    <tr>\n",
       "      <th>prestab0_mean</th>\n",
       "      <td>960.3260869565216</td>\n",
       "    </tr>\n",
       "    <tr>\n",
       "      <th>log_sum</th>\n",
       "      <td>0.0</td>\n",
       "    </tr>\n",
       "  </tbody>\n",
       "</table>\n",
       "</div>"
      ],
      "text/plain": [
       "TimeStamp      2017-04-29 22:36:24\n",
       "tre200b0                       6.3\n",
       "ure200b0                      68.0\n",
       "rre200b0                       0.0\n",
       "sre000b0                       0.0\n",
       "fu3010b0                      13.0\n",
       "prestab0                     958.1\n",
       "tre200b0_mean    6.330434782608696\n",
       "ure200b0_mean     66.3913043478261\n",
       "rre200b0_sum                   0.0\n",
       "sre000b0_sum     5.869565217391305\n",
       "fu3010b0_mean    6.334782608695653\n",
       "prestab0_mean    960.3260869565216\n",
       "log_sum                        0.0"
      ]
     },
     "execution_count": 47,
     "metadata": {},
     "output_type": "execute_result"
    }
   ],
   "source": [
    "X = pd.DataFrame()\n",
    "\n",
    "lastRow = len(t_Log.axes[0]) - 1\n",
    "\n",
    "X = X.assign(tre200b0=t_Log.Temperature[[lastRow]])\n",
    "X = X.assign(ure200b0=t_Log.Humidity[[lastRow]])\n",
    "X = X.assign(rre200b0=t_Log.Rain[[lastRow]])\n",
    "X = X.assign(sre000b0=t_Log.Sunshine[[lastRow]])\n",
    "X = X.assign(fu3010b0=t_Log.Wind[[lastRow]])\n",
    "X = X.assign(prestab0=t_Log.Pressure[[lastRow]])\n",
    "#\"tre200b0\",\"ure200b0\",\"rre150b0\",\"sre000b0\",\"fu3010b0\",\"prestab0\"\n",
    "\n",
    "t_LogRolling = t_Log.rolling(len(t_Log.axes[0]))\n",
    "\n",
    "X = X.assign(tre200b0_mean=t_LogRolling.Temperature.mean())\n",
    "X = X.assign(ure200b0_mean=t_LogRolling.Humidity.mean())\n",
    "X = X.assign(rre200b0_sum=t_LogRolling.Rain.mean())\n",
    "X = X.assign(sre000b0_sum=t_LogRolling.Sunshine.mean())\n",
    "X = X.assign(fu3010b0_mean=t_LogRolling.Wind.mean())\n",
    "X = X.assign(prestab0_mean=t_LogRolling.Pressure.mean())\n",
    "\n",
    "X = X.assign(log_sum = 0) #ToDo: Read Log and calculate the sum\n",
    "\n",
    "X.transpose()"
   ]
  },
  {
   "cell_type": "markdown",
   "metadata": {},
   "source": [
    "### Prepare DataSet (Poly, Scale)"
   ]
  },
  {
   "cell_type": "code",
   "execution_count": 48,
   "metadata": {},
   "outputs": [
    {
     "name": "stderr",
     "output_type": "stream",
     "text": [
      "/usr/local/lib/python3.4/dist-packages/sklearn/preprocessing/data.py:356: DeprecationWarning: Passing 1d arrays as data is deprecated in 0.17 and will raise ValueError in 0.19. Reshape your data either using X.reshape(-1, 1) if your data has a single feature or X.reshape(1, -1) if it contains a single sample.\n",
      "  warnings.warn(DEPRECATION_MSG_1D, DeprecationWarning)\n"
     ]
    }
   ],
   "source": [
    "from IPython.core.interactiveshell import InteractiveShell\n",
    "InteractiveShell.ast_node_interactivity = \"all\"\n",
    "\n",
    "from sklearn.preprocessing import PolynomialFeatures\n",
    "\n",
    "polyDegree = 2\n",
    "poly = PolynomialFeatures(degree=polyDegree)\n",
    "X = poly.fit_transform(X).astype(int)\n",
    "\n",
    "from sklearn.externals import joblib\n",
    "X_min_max_scaler = joblib.load('data/X_min_max_scaler.pkl')\n",
    "X = X_min_max_scaler.transform(X[0])\n"
   ]
  },
  {
   "cell_type": "markdown",
   "metadata": {},
   "source": [
    "## Predict!\n",
    "- 0 - means a lot of water\n",
    "- 1 - is medium\n",
    "- 2 - device should stay off"
   ]
  },
  {
   "cell_type": "code",
   "execution_count": 51,
   "metadata": {},
   "outputs": [
    {
     "data": {
      "text/plain": [
       "75.547677250768189"
      ]
     },
     "execution_count": 51,
     "metadata": {},
     "output_type": "execute_result"
    }
   ],
   "source": [
    "#if result == 1:\n",
    "#    model_reg = joblib.load('data/linreg_med_5deg.pkl')\n",
    "#    res = model_reg.predict(X)[0]\n",
    "#else:\n",
    "#    model_reg = joblib.load('data/linreg_med_5deg.pkl')\n",
    "#    res = model_reg.predict(X)[0]\n",
    "from sklearn.externals import joblib\n",
    "model = joblib.load('data/myLinReg.pkl')\n",
    "    \n",
    "y = model.predict(X)\n",
    "\n",
    "y_min_max_scaler = joblib.load('data/y_min_max_scaler.pkl')\n",
    "y_scaled = y / y_min_max_scaler.scale_ + y_min_max_scaler.min_\n",
    "y_scaled"
   ]
  },
  {
   "cell_type": "code",
   "execution_count": 52,
   "metadata": {},
   "outputs": [
    {
     "data": {
      "text/plain": [
       "array([ 88,   8,  86,  84,  13,  65,  57,  18,  21, 104])"
      ]
     },
     "execution_count": 52,
     "metadata": {},
     "output_type": "execute_result"
    }
   ],
   "source": [
    "\n",
    "K = 10\n",
    "np.argpartition(model.coeff__,-K)[-K:]"
   ]
  }
 ],
 "metadata": {
  "kernelspec": {
   "display_name": "Python 3",
   "language": "python",
   "name": "python3"
  },
  "language_info": {
   "codemirror_mode": {
    "name": "ipython",
    "version": 3
   },
   "file_extension": ".py",
   "mimetype": "text/x-python",
   "name": "python",
   "nbconvert_exporter": "python",
   "pygments_lexer": "ipython3",
   "version": "3.4.2"
  }
 },
 "nbformat": 4,
 "nbformat_minor": 2
}
