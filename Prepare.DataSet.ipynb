{
 "cells": [
  {
   "cell_type": "markdown",
   "metadata": {},
   "source": [
    "# DataSet"
   ]
  },
  {
   "cell_type": "code",
   "execution_count": 1,
   "metadata": {
    "collapsed": true
   },
   "outputs": [],
   "source": [
    "import pandas as pd"
   ]
  },
  {
   "cell_type": "markdown",
   "metadata": {
    "slideshow": {
     "slide_type": "slide"
    }
   },
   "source": [
    "## Get Data from other Notebooks"
   ]
  },
  {
   "cell_type": "code",
   "execution_count": 2,
   "metadata": {
    "collapsed": true,
    "slideshow": {
     "slide_type": "slide"
    }
   },
   "outputs": [],
   "source": [
    "%store -r p_Log\n",
    "%store -r p_weatherLog"
   ]
  },
  {
   "cell_type": "markdown",
   "metadata": {
    "slideshow": {
     "slide_type": "slide"
    }
   },
   "source": [
    "## Variables\n",
    "\n",
    "Variable | Description\n",
    ":------------- |:-------------\n",
    "Date          |   29 non-null object\n",
    "Value         |   Pump Duration (predicted variable)29 non-null float64\n",
    "Time          |   29 non-null object\n",
    "DateTime_x    |   29 non-null object\n",
    "DateTime_y    |   29 non-null object\n",
    "tre200b0      |   Lufttemperatur 2 m über Boden; Stundenmittel 24h ago °C (tre200b0)\n",
    "ure200b0      |   Relative Luftfeuchtigkeit 2 m über Boden; Stundenmittel 24h ago % (ure200b0)\n",
    "rre150b0      |   Niederschlag; Stundensumme 24h ago mm (rre150b0)\n",
    "sre000b0      |   Sonnenscheindauer; Stundensumme 24h ago min (sre000b0)\n",
    "fu3010b0      |   Windgeschwindigkeit skalar; Stundenmittel 24h ago km/h (fu3010b0)\n",
    "prestab0      |   24h-Mean Luftdruck auf Stationshöhe (QFE); Stundenmittel (from -48h to -24h) hPa (prestab0)\n",
    "tre200b0_mean |   24h-Mean Lufttemperatur 2 m über Boden; Stundenmittel (from -48h to -24h) °C (tre200b0)\n",
    "ure200b0_mean |  24h-Mean Relative Luftfeuchtigkeit 2 m über Boden; Stundenmittel (from -48h to -24h) % (ure200b0)\n",
    "rre150b0_mean  |   24h-Summe Niederschlag; Stundenmittel (from -48h to -24h) mm (rre150b0)\n",
    "sre000b0_mean  |  24h-Summe Sonnenscheindauer; Stundenmittel (from -48h to -24h) min (sre000b0)\n",
    "fu3010b0_mean |   24h-Mean Windgeschwindigkeit skalar; Stundenmittel (from -48h to -24h) km/h (fu3010b0)\n",
    "prestab0_mean |   24h-Mean Luftdruck auf Stationshöhe (QFE); Stundenmittel (from -48h to -24h) hPa (prestab0)\n",
    "volumelst72h  |  Pump Duration in the last 72 hours"
   ]
  },
  {
   "cell_type": "code",
   "execution_count": 20,
   "metadata": {
    "scrolled": false
   },
   "outputs": [],
   "source": [
    "# We want to merge pump log with weather data was 24 ago\n",
    "# So, add one day to weather data and merge by \"DateTime\"\n",
    "\n",
    "#p_weatherLog.index += pd.Timedelta(days=1) \"work with actual weather\n",
    "\n",
    "p_DataSet = p_Log\n",
    "p_DataSet = p_DataSet.merge(p_weatherLog, \n",
    "                            left_on=\"DateTime\", how=\"left\", left_index = False, right_index = True)\n",
    "#print(p_DataSet)\n",
    "\n",
    "# Add means and sums\n",
    "p_weatherLogRolling = p_weatherLog.rolling(24)\n",
    "p_DataSet = p_DataSet.merge(pd.DataFrame(p_weatherLogRolling.tre200b0.mean()),\n",
    "                            how=\"left\", left_index = True, right_index = True, suffixes = [\"\", \"_mean\"] )\n",
    "p_DataSet = p_DataSet.merge(pd.DataFrame(p_weatherLogRolling.ure200b0.mean()),\n",
    "                            how=\"left\", left_index = True, right_index = True, suffixes = [\"\", \"_mean\"] )\n",
    "p_DataSet = p_DataSet.merge(pd.DataFrame(p_weatherLogRolling.rre150b0.mean()),\n",
    "                            how=\"left\", left_index = True, right_index = True, suffixes = [\"\", \"_mean\"] )\n",
    "p_DataSet = p_DataSet.merge(pd.DataFrame(p_weatherLogRolling.sre000b0.mean()),\n",
    "                            how=\"left\", left_index = True, right_index = True, suffixes = [\"\", \"_mean\"] )\n",
    "p_DataSet = p_DataSet.merge(pd.DataFrame(p_weatherLogRolling.fu3010b0.mean()),\n",
    "                            how=\"left\", left_index = True, right_index = True, suffixes = [\"\", \"_mean\"] )\n",
    "p_DataSet = p_DataSet.merge(pd.DataFrame(p_weatherLogRolling.prestab0.mean()),\n",
    "                            how=\"left\", left_index = True, right_index = True, suffixes = [\"\", \"_mean\"] )\n",
    "\n",
    "p_Log_rolling = p_Log.rolling(4) # 3 Days + Actual Day\n",
    "p_DataSet = p_DataSet.merge(pd.DataFrame(p_Log_rolling.Value.sum()),\n",
    "                            how=\"left\", left_index = True, right_index = True, suffixes = [\"\", \"_sum\"] )\n",
    "p_DataSet.Value_sum = p_DataSet.Value_sum - p_DataSet.Value # Substract today's Value to get sum of last 3 days\n",
    "\n",
    "p_DataSet = p_DataSet.fillna(value = 0)"
   ]
  },
  {
   "cell_type": "markdown",
   "metadata": {},
   "source": [
    "## Drop no longer needed columns"
   ]
  },
  {
   "cell_type": "code",
   "execution_count": 21,
   "metadata": {},
   "outputs": [
    {
     "data": {
      "text/html": [
       "<div>\n",
       "<table border=\"1\" class=\"dataframe\">\n",
       "  <thead>\n",
       "    <tr style=\"text-align: right;\">\n",
       "      <th></th>\n",
       "      <th>Value</th>\n",
       "      <th>tre200b0</th>\n",
       "      <th>ure200b0</th>\n",
       "      <th>rre150b0</th>\n",
       "      <th>sre000b0</th>\n",
       "      <th>fu3010b0</th>\n",
       "      <th>prestab0</th>\n",
       "      <th>tre200b0_mean</th>\n",
       "      <th>ure200b0_mean</th>\n",
       "      <th>rre150b0_mean</th>\n",
       "      <th>sre000b0_mean</th>\n",
       "      <th>fu3010b0_mean</th>\n",
       "      <th>prestab0_mean</th>\n",
       "      <th>Value_sum</th>\n",
       "    </tr>\n",
       "    <tr>\n",
       "      <th>Date</th>\n",
       "      <th></th>\n",
       "      <th></th>\n",
       "      <th></th>\n",
       "      <th></th>\n",
       "      <th></th>\n",
       "      <th></th>\n",
       "      <th></th>\n",
       "      <th></th>\n",
       "      <th></th>\n",
       "      <th></th>\n",
       "      <th></th>\n",
       "      <th></th>\n",
       "      <th></th>\n",
       "      <th></th>\n",
       "    </tr>\n",
       "  </thead>\n",
       "  <tbody>\n",
       "    <tr>\n",
       "      <th>2014-05-27</th>\n",
       "      <td>960.0</td>\n",
       "      <td>12.4</td>\n",
       "      <td>89.0</td>\n",
       "      <td>0.0</td>\n",
       "      <td>0.0</td>\n",
       "      <td>7.2</td>\n",
       "      <td>958.2</td>\n",
       "      <td>15.733333</td>\n",
       "      <td>69.400000</td>\n",
       "      <td>5.030698e-16</td>\n",
       "      <td>12.750000</td>\n",
       "      <td>8.937500</td>\n",
       "      <td>957.695833</td>\n",
       "      <td>0.0</td>\n",
       "    </tr>\n",
       "    <tr>\n",
       "      <th>2014-05-28</th>\n",
       "      <td>480.0</td>\n",
       "      <td>15.8</td>\n",
       "      <td>62.8</td>\n",
       "      <td>0.0</td>\n",
       "      <td>0.0</td>\n",
       "      <td>0.0</td>\n",
       "      <td>956.0</td>\n",
       "      <td>12.445833</td>\n",
       "      <td>83.887500</td>\n",
       "      <td>3.958333e-01</td>\n",
       "      <td>0.291667</td>\n",
       "      <td>11.583333</td>\n",
       "      <td>957.258333</td>\n",
       "      <td>0.0</td>\n",
       "    </tr>\n",
       "    <tr>\n",
       "      <th>2014-06-01</th>\n",
       "      <td>960.0</td>\n",
       "      <td>5.8</td>\n",
       "      <td>62.6</td>\n",
       "      <td>0.0</td>\n",
       "      <td>0.0</td>\n",
       "      <td>12.2</td>\n",
       "      <td>957.5</td>\n",
       "      <td>3.600000</td>\n",
       "      <td>87.266667</td>\n",
       "      <td>3.291667e-01</td>\n",
       "      <td>3.750000</td>\n",
       "      <td>6.595833</td>\n",
       "      <td>954.495833</td>\n",
       "      <td>0.0</td>\n",
       "    </tr>\n",
       "    <tr>\n",
       "      <th>2014-06-02</th>\n",
       "      <td>12.0</td>\n",
       "      <td>5.4</td>\n",
       "      <td>64.5</td>\n",
       "      <td>0.0</td>\n",
       "      <td>0.0</td>\n",
       "      <td>4.7</td>\n",
       "      <td>948.2</td>\n",
       "      <td>2.495833</td>\n",
       "      <td>90.637500</td>\n",
       "      <td>2.083333e-02</td>\n",
       "      <td>0.041667</td>\n",
       "      <td>6.779167</td>\n",
       "      <td>947.650000</td>\n",
       "      <td>2400.0</td>\n",
       "    </tr>\n",
       "    <tr>\n",
       "      <th>2014-06-05</th>\n",
       "      <td>480.0</td>\n",
       "      <td>17.0</td>\n",
       "      <td>43.3</td>\n",
       "      <td>0.0</td>\n",
       "      <td>0.0</td>\n",
       "      <td>16.2</td>\n",
       "      <td>958.9</td>\n",
       "      <td>11.329167</td>\n",
       "      <td>66.387500</td>\n",
       "      <td>5.065393e-16</td>\n",
       "      <td>31.666667</td>\n",
       "      <td>5.066667</td>\n",
       "      <td>959.604167</td>\n",
       "      <td>1452.0</td>\n",
       "    </tr>\n",
       "  </tbody>\n",
       "</table>\n",
       "</div>"
      ],
      "text/plain": [
       "            Value  tre200b0  ure200b0  rre150b0  sre000b0  fu3010b0  prestab0  \\\n",
       "Date                                                                            \n",
       "2014-05-27  960.0      12.4      89.0       0.0       0.0       7.2     958.2   \n",
       "2014-05-28  480.0      15.8      62.8       0.0       0.0       0.0     956.0   \n",
       "2014-06-01  960.0       5.8      62.6       0.0       0.0      12.2     957.5   \n",
       "2014-06-02   12.0       5.4      64.5       0.0       0.0       4.7     948.2   \n",
       "2014-06-05  480.0      17.0      43.3       0.0       0.0      16.2     958.9   \n",
       "\n",
       "            tre200b0_mean  ure200b0_mean  rre150b0_mean  sre000b0_mean  \\\n",
       "Date                                                                     \n",
       "2014-05-27      15.733333      69.400000   5.030698e-16      12.750000   \n",
       "2014-05-28      12.445833      83.887500   3.958333e-01       0.291667   \n",
       "2014-06-01       3.600000      87.266667   3.291667e-01       3.750000   \n",
       "2014-06-02       2.495833      90.637500   2.083333e-02       0.041667   \n",
       "2014-06-05      11.329167      66.387500   5.065393e-16      31.666667   \n",
       "\n",
       "            fu3010b0_mean  prestab0_mean  Value_sum  \n",
       "Date                                                 \n",
       "2014-05-27       8.937500     957.695833        0.0  \n",
       "2014-05-28      11.583333     957.258333        0.0  \n",
       "2014-06-01       6.595833     954.495833        0.0  \n",
       "2014-06-02       6.779167     947.650000     2400.0  \n",
       "2014-06-05       5.066667     959.604167     1452.0  "
      ]
     },
     "execution_count": 21,
     "metadata": {},
     "output_type": "execute_result"
    }
   ],
   "source": [
    "p_DataSet = p_DataSet.drop(['DateTime_x', 'DateTime_y', 'Time'], axis = 1)\n",
    "\n",
    "p_DataSet.head()"
   ]
  },
  {
   "cell_type": "markdown",
   "metadata": {},
   "source": [
    "## Save DataSet into CSV File"
   ]
  },
  {
   "cell_type": "code",
   "execution_count": 23,
   "metadata": {},
   "outputs": [],
   "source": [
    "p_DataSet.to_csv(\"data/DataSet.csv\")"
   ]
  }
 ],
 "metadata": {
  "celltoolbar": "Edit Metadata",
  "kernelspec": {
   "display_name": "Python 3",
   "language": "python",
   "name": "python3"
  },
  "language_info": {
   "codemirror_mode": {
    "name": "ipython",
    "version": 3
   },
   "file_extension": ".py",
   "mimetype": "text/x-python",
   "name": "python",
   "nbconvert_exporter": "python",
   "pygments_lexer": "ipython3",
   "version": "3.4.2"
  }
 },
 "nbformat": 4,
 "nbformat_minor": 2
}
